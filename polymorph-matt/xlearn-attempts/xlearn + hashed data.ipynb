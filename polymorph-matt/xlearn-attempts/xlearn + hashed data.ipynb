{
 "cells": [
  {
   "cell_type": "code",
   "execution_count": 1,
   "metadata": {
    "collapsed": true
   },
   "outputs": [],
   "source": [
    "import numpy as np\n",
    "import pandas as pd\n",
    "import xlearn as xl"
   ]
  },
  {
   "cell_type": "code",
   "execution_count": 2,
   "metadata": {
    "collapsed": true
   },
   "outputs": [],
   "source": [
    "# Data not added to GitHub. Any data will suffice\n",
    "table = pd.read_pickle(\"../data/Day1\")"
   ]
  },
  {
   "cell_type": "code",
   "execution_count": 3,
   "metadata": {
    "collapsed": true
   },
   "outputs": [],
   "source": [
    "filtered = table[(~np.isnan(table[\"c_cnt\"]))]"
   ]
  },
  {
   "cell_type": "code",
   "execution_count": 4,
   "metadata": {},
   "outputs": [
    {
     "data": {
      "text/plain": [
       "0.0    3798680\n",
       "1.0       2399\n",
       "Name: c_cnt, dtype: int64"
      ]
     },
     "execution_count": 4,
     "metadata": {},
     "output_type": "execute_result"
    }
   ],
   "source": [
    "filtered.c_cnt.value_counts()"
   ]
  },
  {
   "cell_type": "code",
   "execution_count": 5,
   "metadata": {
    "collapsed": true
   },
   "outputs": [],
   "source": [
    "CLICKED_CNT = filtered.c_cnt.value_counts()[1]"
   ]
  },
  {
   "cell_type": "markdown",
   "metadata": {},
   "source": [
    "## Attempting to convert data to FFM format"
   ]
  },
  {
   "cell_type": "markdown",
   "metadata": {},
   "source": [
    "#### Note: unfinished, but concepts are covered in comments until end of section"
   ]
  },
  {
   "cell_type": "code",
   "execution_count": 13,
   "metadata": {
    "collapsed": true
   },
   "outputs": [],
   "source": [
    "from sklearn.utils import shuffle\n",
    "filtered = shuffle(filtered)\n",
    "small_filtered = filtered.head(10000)"
   ]
  },
  {
   "cell_type": "code",
   "execution_count": 24,
   "metadata": {},
   "outputs": [
    {
     "data": {
      "text/plain": [
       "Index(['ad_network_id', 'ad_type', 'advertiser_id', 'bid_requests',\n",
       "       'bid_responses', 'c_cnt', 'c_timestamp', 'c_txn_fee', 'c_txn_rate',\n",
       "       'campaign_id', 'campaign_type', 'cr_cnt', 'creative_id', 'exp_mode',\n",
       "       'f_cnt', 'geo_continent_code', 'geo_country_code2', 'geo_dma_code',\n",
       "       'geo_region_name', 'geo_timezone', 'i_cnt', 'i_timestamp',\n",
       "       'pub_network_id', 'r_cnt', 'r_num_ads_requested', 'r_num_ads_returned',\n",
       "       'r_num_ads_third_party', 'r_timestamp', 'rate_metric', 'session_id',\n",
       "       'site_id', 'token', 'txn_fee', 'txn_rate', 'ua_device',\n",
       "       'ua_device_type', 'ua_name', 'ua_os_name', 'vi_cnt', 'vi_timestamp',\n",
       "       'vv_cnt', 'zone_id'],\n",
       "      dtype='object')"
      ]
     },
     "execution_count": 24,
     "metadata": {},
     "output_type": "execute_result"
    }
   ],
   "source": [
    "filtered.columns"
   ]
  },
  {
   "cell_type": "code",
   "execution_count": 29,
   "metadata": {
    "collapsed": true
   },
   "outputs": [],
   "source": [
    "ctr_irrelevant = ['c_timestamp', 'c_txn_fee', 'c_txn_rate', 'session_id', 'txn_fee', 'txn_rate']\n",
    "new_cols = [col for col in small_filtered.columns if col not in ctr_irrelevant]\n",
    "small_filtered = small_filtered[new_cols]"
   ]
  },
  {
   "cell_type": "code",
   "execution_count": 30,
   "metadata": {},
   "outputs": [
    {
     "name": "stdout",
     "output_type": "stream",
     "text": [
      "ad_network_id: 18\n",
      "ad_type: unhashable type: 'list'\n",
      "advertiser_id: 22\n",
      "bid_requests: unhashable type: 'list'\n",
      "bid_responses: unhashable type: 'list'\n",
      "c_cnt: 2\n",
      "campaign_id: 34\n",
      "campaign_type: 2\n",
      "cr_cnt: 1\n",
      "creative_id: 87\n",
      "exp_mode: 9525\n",
      "f_cnt: 1\n",
      "geo_continent_code: 6\n",
      "geo_country_code2: 70\n",
      "geo_dma_code: 206\n",
      "geo_region_name: 342\n",
      "geo_timezone: 235\n",
      "i_cnt: 2\n",
      "i_timestamp: 9999\n",
      "pub_network_id: 2\n",
      "r_cnt: 2\n",
      "r_num_ads_requested: 6\n",
      "r_num_ads_returned: 8\n",
      "r_num_ads_third_party: 1\n",
      "r_timestamp: 10000\n",
      "rate_metric: 1\n",
      "site_id: 12\n",
      "token: 87\n",
      "ua_device: 571\n",
      "ua_device_type: 38\n",
      "ua_name: 39\n",
      "ua_os_name: 18\n",
      "vi_cnt: 2\n",
      "vi_timestamp: 10000\n",
      "vv_cnt: 1\n",
      "zone_id: 20\n"
     ]
    }
   ],
   "source": [
    "# Getting num of unique elements (out of 10000) in each column to determine whether we need the column\n",
    "# If only one element in a column, we can delete it (it doesn't provide any new information)\n",
    "# We can also use this info later to figure out how to discretize numerical data\n",
    "\n",
    "# aggregating columns that don't provide information i.e. they're all the same value\n",
    "useless = []\n",
    "\n",
    "for col in small_filtered.columns:\n",
    "    try:\n",
    "        print(col, end=\": \")\n",
    "        numelems = len(set(small_filtered[col]))\n",
    "        print(numelems)\n",
    "        if numelems == 1:\n",
    "            useless.append(col)\n",
    "    except TypeError as e:\n",
    "        print(e)"
   ]
  },
  {
   "cell_type": "code",
   "execution_count": 31,
   "metadata": {
    "scrolled": true
   },
   "outputs": [
    {
     "data": {
      "text/plain": [
       "['cr_cnt', 'f_cnt', 'r_num_ads_third_party', 'rate_metric', 'vv_cnt']"
      ]
     },
     "execution_count": 31,
     "metadata": {},
     "output_type": "execute_result"
    }
   ],
   "source": [
    "useless"
   ]
  },
  {
   "cell_type": "code",
   "execution_count": 35,
   "metadata": {
    "collapsed": true
   },
   "outputs": [],
   "source": [
    "new_cols = [col for col in small_filtered.columns if col not in useless]\n",
    "new_cols.remove('c_cnt') # this is our flag; it needs to be placed at the front\n",
    "new_cols = ['c_cnt'] + new_cols\n",
    "refiltered = filtered[new_cols]"
   ]
  },
  {
   "cell_type": "code",
   "execution_count": 36,
   "metadata": {},
   "outputs": [
    {
     "data": {
      "text/plain": [
       "(3801079, 31)"
      ]
     },
     "execution_count": 36,
     "metadata": {},
     "output_type": "execute_result"
    }
   ],
   "source": [
    "refiltered.shape"
   ]
  },
  {
   "cell_type": "code",
   "execution_count": 37,
   "metadata": {},
   "outputs": [
    {
     "data": {
      "text/plain": [
       "31"
      ]
     },
     "execution_count": 37,
     "metadata": {},
     "output_type": "execute_result"
    }
   ],
   "source": [
    "# Here we map each feature to a representative number\n",
    "# Right now we're working with 37 features\n",
    "tuples = zip(refiltered.columns, range(len(refiltered.columns)))\n",
    "featuremap = dict(tuples)\n",
    "len(featuremap)"
   ]
  },
  {
   "cell_type": "code",
   "execution_count": null,
   "metadata": {
    "collapsed": true
   },
   "outputs": [],
   "source": [
    "# We manipulate each feature accordingly\n",
    "# Categorical features we leave alone if already integral\n",
    "# Non-integral categorical features we map to integers\n",
    "# Numerical features we discretize with ranges\n",
    "categorical = ['ad_network_id', 'ad_type', 'advertiser_id', 'bid_requests', ]"
   ]
  },
  {
   "cell_type": "code",
   "execution_count": null,
   "metadata": {
    "collapsed": true
   },
   "outputs": [],
   "source": []
  },
  {
   "cell_type": "markdown",
   "metadata": {},
   "source": [
    "## End of section"
   ]
  },
  {
   "cell_type": "code",
   "execution_count": null,
   "metadata": {
    "collapsed": true
   },
   "outputs": [],
   "source": [
    "from sklearn.utils import shuffle\n",
    "filtered = shuffle(filtered)"
   ]
  },
  {
   "cell_type": "code",
   "execution_count": null,
   "metadata": {
    "collapsed": true
   },
   "outputs": [],
   "source": [
    "def generate_sample(n):\n",
    "    \"\"\"Return X matrix with n no click samples (undersampling)\"\"\"\n",
    "    clicked = filtered[filtered[\"c_cnt\"] == 1]\n",
    "    no_click = filtered[filtered[\"c_cnt\"] == 0].sample(n)\n",
    "    return shuffle(pd.concat([clicked, no_click]))"
   ]
  },
  {
   "cell_type": "code",
   "execution_count": null,
   "metadata": {
    "collapsed": true
   },
   "outputs": [],
   "source": [
    "# Create X and Y matrix for model\n",
    "sample = generate_sample(CLICKED_CNT + 200)\n",
    "sample.dropna(subset=[\"ua_device_type\"], inplace=True)\n",
    "sample.dropna(subset=[\"i_timestamp\"], inplace=True)"
   ]
  },
  {
   "cell_type": "code",
   "execution_count": null,
   "metadata": {
    "collapsed": true
   },
   "outputs": [],
   "source": [
    "sample.shape"
   ]
  },
  {
   "cell_type": "code",
   "execution_count": null,
   "metadata": {
    "collapsed": true
   },
   "outputs": [],
   "source": []
  },
  {
   "cell_type": "code",
   "execution_count": null,
   "metadata": {
    "collapsed": true
   },
   "outputs": [],
   "source": [
    "import xlearn as xl"
   ]
  },
  {
   "cell_type": "code",
   "execution_count": null,
   "metadata": {
    "collapsed": true
   },
   "outputs": [],
   "source": [
    "ffm_model = xl.create_ffm()\n",
    "ffm_model.setTrain(sample)"
   ]
  },
  {
   "cell_type": "code",
   "execution_count": null,
   "metadata": {
    "collapsed": true
   },
   "outputs": [],
   "source": []
  }
 ],
 "metadata": {
  "kernelspec": {
   "display_name": "Python [Root]",
   "language": "python",
   "name": "Python [Root]"
  },
  "language_info": {
   "codemirror_mode": {
    "name": "ipython",
    "version": 3
   },
   "file_extension": ".py",
   "mimetype": "text/x-python",
   "name": "python",
   "nbconvert_exporter": "python",
   "pygments_lexer": "ipython3",
   "version": "3.5.3"
  }
 },
 "nbformat": 4,
 "nbformat_minor": 2
}
