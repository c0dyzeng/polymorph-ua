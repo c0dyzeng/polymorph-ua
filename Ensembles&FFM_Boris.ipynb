{
 "cells": [
  {
   "cell_type": "code",
   "execution_count": 2,
   "metadata": {
    "collapsed": true
   },
   "outputs": [],
   "source": [
    "import pandas as pd\n",
    "import numpy as np\n",
    "import matplotlib.pyplot as plt\n",
    "import seaborn as sns\n",
    "import pickle\n",
    "import json"
   ]
  },
  {
   "cell_type": "code",
   "execution_count": 3,
   "metadata": {
    "collapsed": true
   },
   "outputs": [],
   "source": [
    "# hours = []\n",
    "#Get first 24 hours worth of data on day 1\n",
    "# for i in range(24): \n",
    "#     hours.append(pd.read_json(\"./data/combined1_\" + str(i), lines=True))\n",
    "# hour0 = pd.read_json(\"./combined1_0\", lines=True)\n",
    "# hour1 = pd.read_json(\"./combined1_1\", lines=True)\n",
    "# hour19 = pd.read_json(\"./combined1_19\", lines=True)"
   ]
  },
  {
   "cell_type": "code",
   "execution_count": 4,
   "metadata": {
    "collapsed": true
   },
   "outputs": [],
   "source": [
    "# table = pd.concat(hours)"
   ]
  },
  {
   "cell_type": "code",
   "execution_count": 5,
   "metadata": {
    "collapsed": true
   },
   "outputs": [],
   "source": [
    "# table.to_pickle(\"Day1\")\n",
    "table = pd.read_pickle(\"./data/Day1\")"
   ]
  },
  {
   "cell_type": "code",
   "execution_count": 5,
   "metadata": {
    "collapsed": true
   },
   "outputs": [],
   "source": [
    "# Read in file chunksize at a time to prevent kernel from dying, read_json will return an iterator\n",
    "# table = pd.read_json(\"./data/combined_all_days\", chunksize=2500000, lines=True)\n",
    "# table = pd.concat(table)"
   ]
  },
  {
   "cell_type": "markdown",
   "metadata": {},
   "source": [
    "## Data Exploration"
   ]
  },
  {
   "cell_type": "code",
   "execution_count": 6,
   "metadata": {},
   "outputs": [
    {
     "data": {
      "text/plain": [
       "(4783760, 42)"
      ]
     },
     "execution_count": 6,
     "metadata": {},
     "output_type": "execute_result"
    }
   ],
   "source": [
    "table.shape"
   ]
  },
  {
   "cell_type": "code",
   "execution_count": 7,
   "metadata": {},
   "outputs": [
    {
     "data": {
      "text/html": [
       "<div>\n",
       "<style scoped>\n",
       "    .dataframe tbody tr th:only-of-type {\n",
       "        vertical-align: middle;\n",
       "    }\n",
       "\n",
       "    .dataframe tbody tr th {\n",
       "        vertical-align: top;\n",
       "    }\n",
       "\n",
       "    .dataframe thead th {\n",
       "        text-align: right;\n",
       "    }\n",
       "</style>\n",
       "<table border=\"1\" class=\"dataframe\">\n",
       "  <thead>\n",
       "    <tr style=\"text-align: right;\">\n",
       "      <th></th>\n",
       "      <th>ad_network_id</th>\n",
       "      <th>ad_type</th>\n",
       "      <th>advertiser_id</th>\n",
       "      <th>bid_requests</th>\n",
       "      <th>bid_responses</th>\n",
       "      <th>c_cnt</th>\n",
       "      <th>c_timestamp</th>\n",
       "      <th>c_txn_fee</th>\n",
       "      <th>c_txn_rate</th>\n",
       "      <th>campaign_id</th>\n",
       "      <th>...</th>\n",
       "      <th>txn_fee</th>\n",
       "      <th>txn_rate</th>\n",
       "      <th>ua_device</th>\n",
       "      <th>ua_device_type</th>\n",
       "      <th>ua_name</th>\n",
       "      <th>ua_os_name</th>\n",
       "      <th>vi_cnt</th>\n",
       "      <th>vi_timestamp</th>\n",
       "      <th>vv_cnt</th>\n",
       "      <th>zone_id</th>\n",
       "    </tr>\n",
       "  </thead>\n",
       "  <tbody>\n",
       "    <tr>\n",
       "      <th>0</th>\n",
       "      <td>1839</td>\n",
       "      <td>[story]</td>\n",
       "      <td>4523</td>\n",
       "      <td>[]</td>\n",
       "      <td>[]</td>\n",
       "      <td>0.0</td>\n",
       "      <td>NaN</td>\n",
       "      <td>NaN</td>\n",
       "      <td>NaN</td>\n",
       "      <td>26027</td>\n",
       "      <td>...</td>\n",
       "      <td>NaN</td>\n",
       "      <td>NaN</td>\n",
       "      <td>Samsung SM-G930V</td>\n",
       "      <td>MOB</td>\n",
       "      <td>Chrome Mobile</td>\n",
       "      <td>Android</td>\n",
       "      <td>0.0</td>\n",
       "      <td>NaN</td>\n",
       "      <td>0.0</td>\n",
       "      <td>26024</td>\n",
       "    </tr>\n",
       "    <tr>\n",
       "      <th>1</th>\n",
       "      <td>977</td>\n",
       "      <td>[story]</td>\n",
       "      <td>2917</td>\n",
       "      <td>[]</td>\n",
       "      <td>[]</td>\n",
       "      <td>NaN</td>\n",
       "      <td>NaN</td>\n",
       "      <td>NaN</td>\n",
       "      <td>NaN</td>\n",
       "      <td>25990</td>\n",
       "      <td>...</td>\n",
       "      <td>NaN</td>\n",
       "      <td>NaN</td>\n",
       "      <td>iPad</td>\n",
       "      <td>TAB</td>\n",
       "      <td>Chrome Mobile iOS</td>\n",
       "      <td>iOS</td>\n",
       "      <td>NaN</td>\n",
       "      <td>NaN</td>\n",
       "      <td>NaN</td>\n",
       "      <td>26024</td>\n",
       "    </tr>\n",
       "    <tr>\n",
       "      <th>2</th>\n",
       "      <td>1828</td>\n",
       "      <td>[story]</td>\n",
       "      <td>4514</td>\n",
       "      <td>[]</td>\n",
       "      <td>[]</td>\n",
       "      <td>0.0</td>\n",
       "      <td>NaN</td>\n",
       "      <td>NaN</td>\n",
       "      <td>NaN</td>\n",
       "      <td>22360</td>\n",
       "      <td>...</td>\n",
       "      <td>NaN</td>\n",
       "      <td>NaN</td>\n",
       "      <td>QTAIR7</td>\n",
       "      <td>TAB</td>\n",
       "      <td>Chrome</td>\n",
       "      <td>Android</td>\n",
       "      <td>0.0</td>\n",
       "      <td>NaN</td>\n",
       "      <td>0.0</td>\n",
       "      <td>17681</td>\n",
       "    </tr>\n",
       "    <tr>\n",
       "      <th>3</th>\n",
       "      <td>1839</td>\n",
       "      <td>[story]</td>\n",
       "      <td>4523</td>\n",
       "      <td>[]</td>\n",
       "      <td>[]</td>\n",
       "      <td>0.0</td>\n",
       "      <td>NaN</td>\n",
       "      <td>NaN</td>\n",
       "      <td>NaN</td>\n",
       "      <td>26027</td>\n",
       "      <td>...</td>\n",
       "      <td>NaN</td>\n",
       "      <td>NaN</td>\n",
       "      <td>iPhone</td>\n",
       "      <td>MOB</td>\n",
       "      <td>Mobile Safari</td>\n",
       "      <td>iOS</td>\n",
       "      <td>0.0</td>\n",
       "      <td>NaN</td>\n",
       "      <td>0.0</td>\n",
       "      <td>26024</td>\n",
       "    </tr>\n",
       "    <tr>\n",
       "      <th>4</th>\n",
       "      <td>727</td>\n",
       "      <td>[story]</td>\n",
       "      <td>5152</td>\n",
       "      <td>[]</td>\n",
       "      <td>[]</td>\n",
       "      <td>NaN</td>\n",
       "      <td>NaN</td>\n",
       "      <td>NaN</td>\n",
       "      <td>NaN</td>\n",
       "      <td>26038</td>\n",
       "      <td>...</td>\n",
       "      <td>NaN</td>\n",
       "      <td>NaN</td>\n",
       "      <td>iPad</td>\n",
       "      <td>TAB</td>\n",
       "      <td>Mobile Safari UI/WKWebView</td>\n",
       "      <td>iOS</td>\n",
       "      <td>NaN</td>\n",
       "      <td>NaN</td>\n",
       "      <td>NaN</td>\n",
       "      <td>14414</td>\n",
       "    </tr>\n",
       "  </tbody>\n",
       "</table>\n",
       "<p>5 rows × 42 columns</p>\n",
       "</div>"
      ],
      "text/plain": [
       "   ad_network_id  ad_type  advertiser_id bid_requests bid_responses  c_cnt  \\\n",
       "0           1839  [story]           4523           []            []    0.0   \n",
       "1            977  [story]           2917           []            []    NaN   \n",
       "2           1828  [story]           4514           []            []    0.0   \n",
       "3           1839  [story]           4523           []            []    0.0   \n",
       "4            727  [story]           5152           []            []    NaN   \n",
       "\n",
       "  c_timestamp  c_txn_fee  c_txn_rate  campaign_id   ...   txn_fee  txn_rate  \\\n",
       "0         NaN        NaN         NaN        26027   ...       NaN       NaN   \n",
       "1         NaN        NaN         NaN        25990   ...       NaN       NaN   \n",
       "2         NaN        NaN         NaN        22360   ...       NaN       NaN   \n",
       "3         NaN        NaN         NaN        26027   ...       NaN       NaN   \n",
       "4         NaN        NaN         NaN        26038   ...       NaN       NaN   \n",
       "\n",
       "          ua_device  ua_device_type                     ua_name ua_os_name  \\\n",
       "0  Samsung SM-G930V             MOB               Chrome Mobile    Android   \n",
       "1              iPad             TAB           Chrome Mobile iOS        iOS   \n",
       "2            QTAIR7             TAB                      Chrome    Android   \n",
       "3            iPhone             MOB               Mobile Safari        iOS   \n",
       "4              iPad             TAB  Mobile Safari UI/WKWebView        iOS   \n",
       "\n",
       "  vi_cnt  vi_timestamp vv_cnt zone_id  \n",
       "0    0.0           NaN    0.0   26024  \n",
       "1    NaN           NaN    NaN   26024  \n",
       "2    0.0           NaN    0.0   17681  \n",
       "3    0.0           NaN    0.0   26024  \n",
       "4    NaN           NaN    NaN   14414  \n",
       "\n",
       "[5 rows x 42 columns]"
      ]
     },
     "execution_count": 7,
     "metadata": {},
     "output_type": "execute_result"
    }
   ],
   "source": [
    "table.head()"
   ]
  },
  {
   "cell_type": "code",
   "execution_count": 8,
   "metadata": {},
   "outputs": [
    {
     "name": "stderr",
     "output_type": "stream",
     "text": [
      "//anaconda/lib/python3.5/site-packages/ipykernel/__main__.py:2: SettingWithCopyWarning: \n",
      "A value is trying to be set on a copy of a slice from a DataFrame\n",
      "\n",
      "See the caveats in the documentation: http://pandas.pydata.org/pandas-docs/stable/indexing.html#indexing-view-versus-copy\n",
      "  from ipykernel import kernelapp as app\n"
     ]
    },
    {
     "data": {
      "text/plain": [
       "(3784791, 42)"
      ]
     },
     "execution_count": 8,
     "metadata": {},
     "output_type": "execute_result"
    }
   ],
   "source": [
    "filtered = table[(~np.isnan(table[\"c_cnt\"]))]\n",
    "filtered.dropna(subset=[\"i_timestamp\", \"ua_device_type\"], inplace=True)\n",
    "filtered.shape"
   ]
  },
  {
   "cell_type": "code",
   "execution_count": 9,
   "metadata": {},
   "outputs": [
    {
     "data": {
      "text/plain": [
       "3784791"
      ]
     },
     "execution_count": 9,
     "metadata": {},
     "output_type": "execute_result"
    }
   ],
   "source": [
    "size = filtered.shape[0]\n",
    "size"
   ]
  },
  {
   "cell_type": "code",
   "execution_count": 10,
   "metadata": {},
   "outputs": [
    {
     "data": {
      "text/plain": [
       "0.0    3782400\n",
       "1.0       2391\n",
       "Name: c_cnt, dtype: int64"
      ]
     },
     "execution_count": 10,
     "metadata": {},
     "output_type": "execute_result"
    }
   ],
   "source": [
    "filtered.c_cnt.value_counts()"
   ]
  },
  {
   "cell_type": "code",
   "execution_count": 11,
   "metadata": {},
   "outputs": [
    {
     "data": {
      "text/plain": [
       "2391"
      ]
     },
     "execution_count": 11,
     "metadata": {},
     "output_type": "execute_result"
    }
   ],
   "source": [
    "CLICKED_CNT = filtered.c_cnt.value_counts()[1]\n",
    "CLICKED_CNT"
   ]
  },
  {
   "cell_type": "code",
   "execution_count": 12,
   "metadata": {
    "collapsed": true
   },
   "outputs": [],
   "source": [
    "#Find average ctr rate of each advertiser\n",
    "def score_advertisers(table, score_func):\n",
    "    click_counts = table[[\"advertiser_id\", \"c_cnt\"]]\n",
    "    clean_ccnt = click_counts.dropna()\n",
    "    grouped = clean_ccnt.groupby(\"advertiser_id\")\n",
    "    score_means = lambda x: score_func(np.mean(x))\n",
    "    agg_scored = grouped.agg({'c_cnt': score_means})\n",
    "    return agg_scored\n",
    "\n",
    "click_rates = score_advertisers(filtered, lambda x: x).reset_index()"
   ]
  },
  {
   "cell_type": "code",
   "execution_count": 13,
   "metadata": {},
   "outputs": [
    {
     "data": {
      "text/html": [
       "<div>\n",
       "<style scoped>\n",
       "    .dataframe tbody tr th:only-of-type {\n",
       "        vertical-align: middle;\n",
       "    }\n",
       "\n",
       "    .dataframe tbody tr th {\n",
       "        vertical-align: top;\n",
       "    }\n",
       "\n",
       "    .dataframe thead th {\n",
       "        text-align: right;\n",
       "    }\n",
       "</style>\n",
       "<table border=\"1\" class=\"dataframe\">\n",
       "  <thead>\n",
       "    <tr style=\"text-align: right;\">\n",
       "      <th></th>\n",
       "      <th>ad_network_id</th>\n",
       "      <th>ad_type</th>\n",
       "      <th>advertiser_id</th>\n",
       "      <th>bid_requests</th>\n",
       "      <th>bid_responses</th>\n",
       "      <th>c_cnt</th>\n",
       "      <th>c_timestamp</th>\n",
       "      <th>c_txn_fee</th>\n",
       "      <th>c_txn_rate</th>\n",
       "      <th>campaign_id</th>\n",
       "      <th>...</th>\n",
       "      <th>txn_rate</th>\n",
       "      <th>ua_device</th>\n",
       "      <th>ua_device_type</th>\n",
       "      <th>ua_name</th>\n",
       "      <th>ua_os_name</th>\n",
       "      <th>vi_cnt</th>\n",
       "      <th>vi_timestamp</th>\n",
       "      <th>vv_cnt</th>\n",
       "      <th>zone_id</th>\n",
       "      <th>ctr_rate</th>\n",
       "    </tr>\n",
       "  </thead>\n",
       "  <tbody>\n",
       "    <tr>\n",
       "      <th>0</th>\n",
       "      <td>1839</td>\n",
       "      <td>[story]</td>\n",
       "      <td>4523</td>\n",
       "      <td>[]</td>\n",
       "      <td>[]</td>\n",
       "      <td>0.0</td>\n",
       "      <td>NaN</td>\n",
       "      <td>NaN</td>\n",
       "      <td>NaN</td>\n",
       "      <td>26027</td>\n",
       "      <td>...</td>\n",
       "      <td>NaN</td>\n",
       "      <td>Samsung SM-G930V</td>\n",
       "      <td>MOB</td>\n",
       "      <td>Chrome Mobile</td>\n",
       "      <td>Android</td>\n",
       "      <td>0.0</td>\n",
       "      <td>NaN</td>\n",
       "      <td>0.0</td>\n",
       "      <td>26024</td>\n",
       "      <td>0.0001</td>\n",
       "    </tr>\n",
       "    <tr>\n",
       "      <th>1</th>\n",
       "      <td>1839</td>\n",
       "      <td>[story]</td>\n",
       "      <td>4523</td>\n",
       "      <td>[]</td>\n",
       "      <td>[]</td>\n",
       "      <td>0.0</td>\n",
       "      <td>NaN</td>\n",
       "      <td>NaN</td>\n",
       "      <td>NaN</td>\n",
       "      <td>26027</td>\n",
       "      <td>...</td>\n",
       "      <td>NaN</td>\n",
       "      <td>iPhone</td>\n",
       "      <td>MOB</td>\n",
       "      <td>Mobile Safari</td>\n",
       "      <td>iOS</td>\n",
       "      <td>0.0</td>\n",
       "      <td>NaN</td>\n",
       "      <td>0.0</td>\n",
       "      <td>26024</td>\n",
       "      <td>0.0001</td>\n",
       "    </tr>\n",
       "    <tr>\n",
       "      <th>2</th>\n",
       "      <td>1839</td>\n",
       "      <td>[story]</td>\n",
       "      <td>4523</td>\n",
       "      <td>[]</td>\n",
       "      <td>[]</td>\n",
       "      <td>0.0</td>\n",
       "      <td>NaN</td>\n",
       "      <td>NaN</td>\n",
       "      <td>NaN</td>\n",
       "      <td>26027</td>\n",
       "      <td>...</td>\n",
       "      <td>NaN</td>\n",
       "      <td>Other</td>\n",
       "      <td>PC</td>\n",
       "      <td>Chrome</td>\n",
       "      <td>Windows 8.1</td>\n",
       "      <td>0.0</td>\n",
       "      <td>NaN</td>\n",
       "      <td>0.0</td>\n",
       "      <td>26024</td>\n",
       "      <td>0.0001</td>\n",
       "    </tr>\n",
       "    <tr>\n",
       "      <th>3</th>\n",
       "      <td>1839</td>\n",
       "      <td>[story]</td>\n",
       "      <td>4523</td>\n",
       "      <td>[]</td>\n",
       "      <td>[]</td>\n",
       "      <td>0.0</td>\n",
       "      <td>NaN</td>\n",
       "      <td>NaN</td>\n",
       "      <td>NaN</td>\n",
       "      <td>26027</td>\n",
       "      <td>...</td>\n",
       "      <td>NaN</td>\n",
       "      <td>iPhone</td>\n",
       "      <td>MOB</td>\n",
       "      <td>Mobile Safari</td>\n",
       "      <td>iOS</td>\n",
       "      <td>0.0</td>\n",
       "      <td>NaN</td>\n",
       "      <td>0.0</td>\n",
       "      <td>26024</td>\n",
       "      <td>0.0001</td>\n",
       "    </tr>\n",
       "    <tr>\n",
       "      <th>4</th>\n",
       "      <td>1839</td>\n",
       "      <td>[story]</td>\n",
       "      <td>4523</td>\n",
       "      <td>[]</td>\n",
       "      <td>[]</td>\n",
       "      <td>0.0</td>\n",
       "      <td>NaN</td>\n",
       "      <td>NaN</td>\n",
       "      <td>NaN</td>\n",
       "      <td>26027</td>\n",
       "      <td>...</td>\n",
       "      <td>NaN</td>\n",
       "      <td>Other</td>\n",
       "      <td>PC</td>\n",
       "      <td>Chrome</td>\n",
       "      <td>Windows 7</td>\n",
       "      <td>0.0</td>\n",
       "      <td>NaN</td>\n",
       "      <td>0.0</td>\n",
       "      <td>26024</td>\n",
       "      <td>0.0001</td>\n",
       "    </tr>\n",
       "  </tbody>\n",
       "</table>\n",
       "<p>5 rows × 43 columns</p>\n",
       "</div>"
      ],
      "text/plain": [
       "   ad_network_id  ad_type  advertiser_id bid_requests bid_responses  c_cnt  \\\n",
       "0           1839  [story]           4523           []            []    0.0   \n",
       "1           1839  [story]           4523           []            []    0.0   \n",
       "2           1839  [story]           4523           []            []    0.0   \n",
       "3           1839  [story]           4523           []            []    0.0   \n",
       "4           1839  [story]           4523           []            []    0.0   \n",
       "\n",
       "  c_timestamp  c_txn_fee  c_txn_rate  campaign_id   ...    txn_rate  \\\n",
       "0         NaN        NaN         NaN        26027   ...         NaN   \n",
       "1         NaN        NaN         NaN        26027   ...         NaN   \n",
       "2         NaN        NaN         NaN        26027   ...         NaN   \n",
       "3         NaN        NaN         NaN        26027   ...         NaN   \n",
       "4         NaN        NaN         NaN        26027   ...         NaN   \n",
       "\n",
       "          ua_device  ua_device_type        ua_name   ua_os_name vi_cnt  \\\n",
       "0  Samsung SM-G930V             MOB  Chrome Mobile      Android    0.0   \n",
       "1            iPhone             MOB  Mobile Safari          iOS    0.0   \n",
       "2             Other              PC         Chrome  Windows 8.1    0.0   \n",
       "3            iPhone             MOB  Mobile Safari          iOS    0.0   \n",
       "4             Other              PC         Chrome    Windows 7    0.0   \n",
       "\n",
       "  vi_timestamp  vv_cnt zone_id ctr_rate  \n",
       "0          NaN     0.0   26024   0.0001  \n",
       "1          NaN     0.0   26024   0.0001  \n",
       "2          NaN     0.0   26024   0.0001  \n",
       "3          NaN     0.0   26024   0.0001  \n",
       "4          NaN     0.0   26024   0.0001  \n",
       "\n",
       "[5 rows x 43 columns]"
      ]
     },
     "execution_count": 13,
     "metadata": {},
     "output_type": "execute_result"
    }
   ],
   "source": [
    "click_rates.rename(columns={\"c_cnt\": \"ctr_rate\"}, inplace=True)\n",
    "filtered = pd.merge(filtered, click_rates, on=\"advertiser_id\")\n",
    "filtered.head()"
   ]
  },
  {
   "cell_type": "code",
   "execution_count": 14,
   "metadata": {},
   "outputs": [
    {
     "data": {
      "text/plain": [
       "MOB    1935685\n",
       "PC     1233963\n",
       "TAB     612025\n",
       "BOT       3118\n",
       "Name: ua_device_type, dtype: int64"
      ]
     },
     "execution_count": 14,
     "metadata": {},
     "output_type": "execute_result"
    }
   ],
   "source": [
    "filtered[\"ua_device_type\"].value_counts()"
   ]
  },
  {
   "cell_type": "code",
   "execution_count": 15,
   "metadata": {},
   "outputs": [
    {
     "data": {
      "text/plain": [
       "private    3609772\n",
       "outside     175019\n",
       "Name: campaign_type, dtype: int64"
      ]
     },
     "execution_count": 15,
     "metadata": {},
     "output_type": "execute_result"
    }
   ],
   "source": [
    "filtered.campaign_type.value_counts()"
   ]
  },
  {
   "cell_type": "code",
   "execution_count": 16,
   "metadata": {},
   "outputs": [
    {
     "data": {
      "text/plain": [
       "Index(['ad_network_id', 'ad_type', 'advertiser_id', 'bid_requests',\n",
       "       'bid_responses', 'c_cnt', 'c_timestamp', 'c_txn_fee', 'c_txn_rate',\n",
       "       'campaign_id', 'campaign_type', 'cr_cnt', 'creative_id', 'exp_mode',\n",
       "       'f_cnt', 'geo_continent_code', 'geo_country_code2', 'geo_dma_code',\n",
       "       'geo_region_name', 'geo_timezone', 'i_cnt', 'i_timestamp',\n",
       "       'pub_network_id', 'r_cnt', 'r_num_ads_requested', 'r_num_ads_returned',\n",
       "       'r_num_ads_third_party', 'r_timestamp', 'rate_metric', 'session_id',\n",
       "       'site_id', 'token', 'txn_fee', 'txn_rate', 'ua_device',\n",
       "       'ua_device_type', 'ua_name', 'ua_os_name', 'vi_cnt', 'vi_timestamp',\n",
       "       'vv_cnt', 'zone_id', 'ctr_rate'],\n",
       "      dtype='object')"
      ]
     },
     "execution_count": 16,
     "metadata": {},
     "output_type": "execute_result"
    }
   ],
   "source": [
    "filtered.columns"
   ]
  },
  {
   "cell_type": "markdown",
   "metadata": {},
   "source": [
    "## Feature Engineering and Model Creation"
   ]
  },
  {
   "cell_type": "code",
   "execution_count": 37,
   "metadata": {
    "collapsed": true
   },
   "outputs": [],
   "source": [
    "from sklearn.utils import shuffle\n",
    "from sklearn import preprocessing\n",
    "from sklearn import ensemble\n",
    "from sklearn.model_selection import train_test_split\n",
    "from sklearn.model_selection import cross_val_score\n",
    "from sklearn.model_selection import GridSearchCV\n",
    "from sklearn.linear_model import LogisticRegression\n",
    "from sklearn.metrics import confusion_matrix\n",
    "from sklearn.metrics import f1_score"
   ]
  },
  {
   "cell_type": "code",
   "execution_count": 18,
   "metadata": {
    "collapsed": true
   },
   "outputs": [],
   "source": [
    "# Shuffle data\n",
    "filtered = shuffle(filtered)"
   ]
  },
  {
   "cell_type": "code",
   "execution_count": 19,
   "metadata": {
    "collapsed": true
   },
   "outputs": [],
   "source": [
    "def generate_sample(n):\n",
    "    \"\"\"Return X matrix with n no click samples (undersampling)\"\"\"\n",
    "    clicked = filtered[filtered[\"c_cnt\"] == 1]\n",
    "    no_click = filtered[filtered[\"c_cnt\"] == 0].sample(n)\n",
    "    return shuffle(pd.concat([clicked, no_click]))\n",
    "\n",
    "def generate_subset(n, extra):\n",
    "    \"\"\"Returns random subset of original matrix with n/2 click samples and (n/2 + extra) nonclicks\"\"\"\n",
    "    clicked = filtered[filtered[\"c_cnt\"] == 1].reset_index(drop=True)\n",
    "    no_click = filtered[filtered[\"c_cnt\"] == 0].reset_index(drop=True)\n",
    "    click_idx = np.random.randint(n, size=int(n/2))\n",
    "    no_click_idx = np.random.randint(no_click.shape[0], size=int(n/2 + extra))\n",
    "    return (clicked.drop(click_idx), no_click.drop(no_click_idx), \n",
    "            shuffle(pd.concat([clicked.iloc[click_idx, :], no_click.iloc[no_click_idx, :]])))"
   ]
  },
  {
   "cell_type": "code",
   "execution_count": 20,
   "metadata": {
    "collapsed": true
   },
   "outputs": [],
   "source": [
    "# Create X and Y matrix for model\n",
    "click_filtered, no_click_filtered, sample = generate_subset(CLICKED_CNT, 1500)"
   ]
  },
  {
   "cell_type": "code",
   "execution_count": 21,
   "metadata": {},
   "outputs": [
    {
     "data": {
      "text/plain": [
       "(3890,)"
      ]
     },
     "execution_count": 21,
     "metadata": {},
     "output_type": "execute_result"
    }
   ],
   "source": [
    "X_data = pd.DataFrame()\n",
    "y_data = sample[\"c_cnt\"]\n",
    "y_data.shape"
   ]
  },
  {
   "cell_type": "code",
   "execution_count": 22,
   "metadata": {},
   "outputs": [
    {
     "data": {
      "text/plain": [
       "MOB    1809\n",
       "PC     1225\n",
       "TAB     855\n",
       "BOT       1\n",
       "Name: ua_device_type, dtype: int64"
      ]
     },
     "execution_count": 22,
     "metadata": {},
     "output_type": "execute_result"
    }
   ],
   "source": [
    "sample[\"ua_device_type\"].value_counts()"
   ]
  },
  {
   "cell_type": "code",
   "execution_count": 23,
   "metadata": {
    "collapsed": true
   },
   "outputs": [],
   "source": [
    "# One hot encode device type feature\n",
    "le_device = preprocessing.LabelBinarizer()\n",
    "transformed_device = le_device.fit_transform(sample[\"ua_device_type\"])\n",
    "\n",
    "# One hot encode continent code \n",
    "le_cont = preprocessing.LabelBinarizer()\n",
    "transformed_continent = le_cont.fit_transform(sample[\"geo_continent_code\"])"
   ]
  },
  {
   "cell_type": "code",
   "execution_count": 24,
   "metadata": {
    "collapsed": true
   },
   "outputs": [],
   "source": [
    "def transform_hour(x):\n",
    "    \"\"\"Assigns hour to a bin\"\"\"\n",
    "    if x >= 5 and x < 8: return 1 #early morning \n",
    "    elif x >= 8 and x < 11: return 2 #morning \n",
    "    elif x >= 11 and x < 14: return 3 #midday\n",
    "    elif x >= 14 and x < 19: return 4 #afternoon\n",
    "    elif x >= 19 and x < 22: return 5 #evening\n",
    "    else: return 6 #night"
   ]
  },
  {
   "cell_type": "code",
   "execution_count": 25,
   "metadata": {
    "collapsed": true
   },
   "outputs": [],
   "source": [
    "def create_numerical_features(df, sample):\n",
    "    \"\"\"Add numerical features to dataframe df from sample dataframe\"\"\"\n",
    "    df[\"i_cnt\"] = sample[\"i_cnt\"].tolist()\n",
    "    df[\"r_cnt\"] = sample[\"r_cnt\"].tolist()\n",
    "    df[\"campaign_type\"] = sample[\"campaign_type\"].apply(lambda x: 1 if x == \"private\" else 0).tolist()\n",
    "    df[\"ctr_rate\"] = sample[\"ctr_rate\"].tolist()\n",
    "    df[\"num_ads_requested\"] = sample[\"r_num_ads_requested\"].tolist()\n",
    "    # Create hour feature\n",
    "    hours = sample[\"i_timestamp\"].str[11:13] # get hour of timestamp column\n",
    "    # X_data[\"hour\"] = np.sin(hours.astype(int)).tolist() #sine transform hour because it's cyclical\n",
    "    df[\"hour\"] = hours.astype(int).apply(transform_hour).tolist()"
   ]
  },
  {
   "cell_type": "code",
   "execution_count": 26,
   "metadata": {
    "collapsed": true
   },
   "outputs": [],
   "source": [
    "create_numerical_features(X_data, sample)"
   ]
  },
  {
   "cell_type": "code",
   "execution_count": 27,
   "metadata": {
    "collapsed": true
   },
   "outputs": [],
   "source": [
    "# Hash sparse features, allows for less sparse representation than one hot encoding\n",
    "# More info can be found on https://en.wikipedia.org/wiki/Feature_hashing\n",
    "from sklearn.feature_extraction import FeatureHasher\n",
    "h = FeatureHasher(n_features=30, input_type='string')\n",
    "\n",
    "hashed_ad_id = h.transform(sample[\"advertiser_id\"].astype(str)).toarray()\n",
    "hashed_adnet_id = h.transform(sample[\"ad_network_id\"].astype(str)).toarray()\n",
    "hashed_country_code =  h.transform(sample[\"geo_country_code2\"]).toarray()\n",
    "hashed_os = h.transform(sample[\"ua_os_name\"]).toarray()\n",
    "hashed_site_id = h.transform(sample[\"site_id\"].astype(str)).toarray()\n",
    "hashed_ua_name = h.transform(sample[\"ua_name\"].astype(str)).toarray()\n",
    "hashed_campaign_id = h.transform(sample[\"campaign_id\"].astype(str)).toarray()"
   ]
  },
  {
   "cell_type": "code",
   "execution_count": 28,
   "metadata": {
    "collapsed": true
   },
   "outputs": [],
   "source": [
    "# Combine all features\n",
    "X_data = pd.concat([X_data, pd.DataFrame(transformed_continent), pd.DataFrame(hashed_ad_id),\n",
    "                            pd.DataFrame(hashed_country_code), pd.DataFrame(hashed_adnet_id),\n",
    "                            pd.DataFrame(hashed_os), pd.DataFrame(hashed_site_id),\n",
    "                            pd.DataFrame(hashed_ua_name), pd.DataFrame(hashed_campaign_id),\n",
    "                            pd.DataFrame(transformed_device)], \n",
    "                   axis=1)"
   ]
  },
  {
   "cell_type": "code",
   "execution_count": 29,
   "metadata": {
    "scrolled": true
   },
   "outputs": [
    {
     "data": {
      "text/plain": [
       "(3890, 226)"
      ]
     },
     "execution_count": 29,
     "metadata": {},
     "output_type": "execute_result"
    }
   ],
   "source": [
    "X_data.shape"
   ]
  },
  {
   "cell_type": "code",
   "execution_count": 30,
   "metadata": {},
   "outputs": [
    {
     "data": {
      "text/html": [
       "<div>\n",
       "<style scoped>\n",
       "    .dataframe tbody tr th:only-of-type {\n",
       "        vertical-align: middle;\n",
       "    }\n",
       "\n",
       "    .dataframe tbody tr th {\n",
       "        vertical-align: top;\n",
       "    }\n",
       "\n",
       "    .dataframe thead th {\n",
       "        text-align: right;\n",
       "    }\n",
       "</style>\n",
       "<table border=\"1\" class=\"dataframe\">\n",
       "  <thead>\n",
       "    <tr style=\"text-align: right;\">\n",
       "      <th></th>\n",
       "      <th>i_cnt</th>\n",
       "      <th>r_cnt</th>\n",
       "      <th>campaign_type</th>\n",
       "      <th>ctr_rate</th>\n",
       "      <th>num_ads_requested</th>\n",
       "      <th>hour</th>\n",
       "      <th>0</th>\n",
       "      <th>1</th>\n",
       "      <th>2</th>\n",
       "      <th>3</th>\n",
       "      <th>...</th>\n",
       "      <th>24</th>\n",
       "      <th>25</th>\n",
       "      <th>26</th>\n",
       "      <th>27</th>\n",
       "      <th>28</th>\n",
       "      <th>29</th>\n",
       "      <th>0</th>\n",
       "      <th>1</th>\n",
       "      <th>2</th>\n",
       "      <th>3</th>\n",
       "    </tr>\n",
       "  </thead>\n",
       "  <tbody>\n",
       "    <tr>\n",
       "      <th>0</th>\n",
       "      <td>1.0</td>\n",
       "      <td>1</td>\n",
       "      <td>1</td>\n",
       "      <td>0.000414</td>\n",
       "      <td>10</td>\n",
       "      <td>6</td>\n",
       "      <td>0</td>\n",
       "      <td>0</td>\n",
       "      <td>0</td>\n",
       "      <td>1</td>\n",
       "      <td>...</td>\n",
       "      <td>0.0</td>\n",
       "      <td>0.0</td>\n",
       "      <td>0.0</td>\n",
       "      <td>0.0</td>\n",
       "      <td>0.0</td>\n",
       "      <td>0.0</td>\n",
       "      <td>0</td>\n",
       "      <td>1</td>\n",
       "      <td>0</td>\n",
       "      <td>0</td>\n",
       "    </tr>\n",
       "    <tr>\n",
       "      <th>1</th>\n",
       "      <td>1.0</td>\n",
       "      <td>1</td>\n",
       "      <td>1</td>\n",
       "      <td>0.000441</td>\n",
       "      <td>6</td>\n",
       "      <td>6</td>\n",
       "      <td>0</td>\n",
       "      <td>0</td>\n",
       "      <td>0</td>\n",
       "      <td>1</td>\n",
       "      <td>...</td>\n",
       "      <td>0.0</td>\n",
       "      <td>0.0</td>\n",
       "      <td>0.0</td>\n",
       "      <td>0.0</td>\n",
       "      <td>0.0</td>\n",
       "      <td>0.0</td>\n",
       "      <td>0</td>\n",
       "      <td>0</td>\n",
       "      <td>0</td>\n",
       "      <td>1</td>\n",
       "    </tr>\n",
       "    <tr>\n",
       "      <th>2</th>\n",
       "      <td>1.0</td>\n",
       "      <td>1</td>\n",
       "      <td>0</td>\n",
       "      <td>0.007837</td>\n",
       "      <td>1</td>\n",
       "      <td>2</td>\n",
       "      <td>0</td>\n",
       "      <td>0</td>\n",
       "      <td>1</td>\n",
       "      <td>0</td>\n",
       "      <td>...</td>\n",
       "      <td>0.0</td>\n",
       "      <td>0.0</td>\n",
       "      <td>0.0</td>\n",
       "      <td>0.0</td>\n",
       "      <td>0.0</td>\n",
       "      <td>0.0</td>\n",
       "      <td>0</td>\n",
       "      <td>1</td>\n",
       "      <td>0</td>\n",
       "      <td>0</td>\n",
       "    </tr>\n",
       "    <tr>\n",
       "      <th>3</th>\n",
       "      <td>1.0</td>\n",
       "      <td>1</td>\n",
       "      <td>1</td>\n",
       "      <td>0.000100</td>\n",
       "      <td>4</td>\n",
       "      <td>6</td>\n",
       "      <td>0</td>\n",
       "      <td>0</td>\n",
       "      <td>0</td>\n",
       "      <td>1</td>\n",
       "      <td>...</td>\n",
       "      <td>0.0</td>\n",
       "      <td>0.0</td>\n",
       "      <td>0.0</td>\n",
       "      <td>0.0</td>\n",
       "      <td>0.0</td>\n",
       "      <td>0.0</td>\n",
       "      <td>0</td>\n",
       "      <td>0</td>\n",
       "      <td>1</td>\n",
       "      <td>0</td>\n",
       "    </tr>\n",
       "    <tr>\n",
       "      <th>4</th>\n",
       "      <td>1.0</td>\n",
       "      <td>1</td>\n",
       "      <td>1</td>\n",
       "      <td>0.000414</td>\n",
       "      <td>10</td>\n",
       "      <td>5</td>\n",
       "      <td>0</td>\n",
       "      <td>0</td>\n",
       "      <td>0</td>\n",
       "      <td>1</td>\n",
       "      <td>...</td>\n",
       "      <td>0.0</td>\n",
       "      <td>0.0</td>\n",
       "      <td>0.0</td>\n",
       "      <td>0.0</td>\n",
       "      <td>0.0</td>\n",
       "      <td>0.0</td>\n",
       "      <td>0</td>\n",
       "      <td>0</td>\n",
       "      <td>1</td>\n",
       "      <td>0</td>\n",
       "    </tr>\n",
       "  </tbody>\n",
       "</table>\n",
       "<p>5 rows × 226 columns</p>\n",
       "</div>"
      ],
      "text/plain": [
       "   i_cnt  r_cnt  campaign_type  ctr_rate  num_ads_requested  hour  0  1  2  3  \\\n",
       "0    1.0      1              1  0.000414                 10     6  0  0  0  1   \n",
       "1    1.0      1              1  0.000441                  6     6  0  0  0  1   \n",
       "2    1.0      1              0  0.007837                  1     2  0  0  1  0   \n",
       "3    1.0      1              1  0.000100                  4     6  0  0  0  1   \n",
       "4    1.0      1              1  0.000414                 10     5  0  0  0  1   \n",
       "\n",
       "  ...   24   25   26   27   28   29  0  1  2  3  \n",
       "0 ...  0.0  0.0  0.0  0.0  0.0  0.0  0  1  0  0  \n",
       "1 ...  0.0  0.0  0.0  0.0  0.0  0.0  0  0  0  1  \n",
       "2 ...  0.0  0.0  0.0  0.0  0.0  0.0  0  1  0  0  \n",
       "3 ...  0.0  0.0  0.0  0.0  0.0  0.0  0  0  1  0  \n",
       "4 ...  0.0  0.0  0.0  0.0  0.0  0.0  0  0  1  0  \n",
       "\n",
       "[5 rows x 226 columns]"
      ]
     },
     "execution_count": 30,
     "metadata": {},
     "output_type": "execute_result"
    }
   ],
   "source": [
    "X_data.head()"
   ]
  },
  {
   "cell_type": "markdown",
   "metadata": {},
   "source": [
    "### Bagging"
   ]
  },
  {
   "cell_type": "code",
   "execution_count": 31,
   "metadata": {},
   "outputs": [
    {
     "name": "stdout",
     "output_type": "stream",
     "text": [
      "Bagging Classifier Avg Score: 0.829820051414\n"
     ]
    }
   ],
   "source": [
    "bg = ensemble.BaggingClassifier()\n",
    "# bg.fit(X_train, y_train)\n",
    "# bg.score(X_test, y_test) #test accuracy\n",
    "bg_scores = cross_val_score(bg, X_data, y_data, cv=5)\n",
    "print(\"Bagging Classifier Avg Score:\", np.mean(bg_scores))"
   ]
  },
  {
   "cell_type": "markdown",
   "metadata": {},
   "source": [
    "### Boosting"
   ]
  },
  {
   "cell_type": "code",
   "execution_count": 32,
   "metadata": {},
   "outputs": [
    {
     "name": "stdout",
     "output_type": "stream",
     "text": [
      "Boosting Classifier Avg Score: 0.843958868895\n"
     ]
    }
   ],
   "source": [
    "# ADABOOST\n",
    "adaboost = ensemble.AdaBoostClassifier()\n",
    "ada_scores = cross_val_score(adaboost, X_data, y_data, cv=5)\n",
    "print(\"Boosting Classifier Avg Score:\", np.mean(ada_scores))"
   ]
  },
  {
   "cell_type": "code",
   "execution_count": 33,
   "metadata": {},
   "outputs": [
    {
     "name": "stdout",
     "output_type": "stream",
     "text": [
      "Boosting Classifier Avg Score: 0.843701799486\n"
     ]
    }
   ],
   "source": [
    "# XGBOOST\n",
    "xgboost = ensemble.GradientBoostingClassifier()\n",
    "xg_scores = cross_val_score(xgboost, X_data, y_data, cv=5)\n",
    "print(\"Boosting Classifier Avg Score:\", np.mean(xg_scores))"
   ]
  },
  {
   "cell_type": "code",
   "execution_count": 34,
   "metadata": {},
   "outputs": [
    {
     "name": "stdout",
     "output_type": "stream",
     "text": [
      "Optimal Tree Depth: {'max_depth': 3}\n"
     ]
    }
   ],
   "source": [
    "#Tune XGBoost parameters\n",
    "parameters = {'max_depth':[3, 5, 7]}\n",
    "clf = GridSearchCV(xgboost, parameters, cv=5)\n",
    "clf.fit(X_data, y_data)\n",
    "print(\"Optimal Tree Depth:\", clf.best_params_)"
   ]
  },
  {
   "cell_type": "code",
   "execution_count": 87,
   "metadata": {},
   "outputs": [
    {
     "name": "stdout",
     "output_type": "stream",
     "text": [
      "Precision: 0.778894472362 , Recall: 0.625\n",
      "F1 Score: 0.693512304251\n"
     ]
    }
   ],
   "source": [
    "# F1 score on this small test set\n",
    "a,b,c,d = train_test_split(X_data, y_data, test_size=0.2)\n",
    "xgboost.fit(a, c)\n",
    "e = xgboost.predict(b)\n",
    "\n",
    "confusion_test = confusion_matrix(d, e)\n",
    "\n",
    "precision_test = confusion_test[1][1] / (confusion_test[1][1] + confusion_test[0][1])\n",
    "recall_test = confusion_test[1][1] / (confusion_test[1][1] + confusion_test[1][0])\n",
    "print(\"Precision:\", precision_test, \", Recall:\", recall_test)\n",
    "\n",
    "print(\"F1 Score:\", f1_score(d, e))"
   ]
  },
  {
   "cell_type": "markdown",
   "metadata": {},
   "source": [
    "## Testing on original data"
   ]
  },
  {
   "cell_type": "code",
   "execution_count": 39,
   "metadata": {
    "collapsed": true
   },
   "outputs": [],
   "source": [
    "#Only keep rows that weren't part of training set\n",
    "filtered_subset = shuffle(pd.concat([click_filtered, no_click_filtered]))"
   ]
  },
  {
   "cell_type": "code",
   "execution_count": 40,
   "metadata": {},
   "outputs": [
    {
     "data": {
      "text/plain": [
       "(3781148, 43)"
      ]
     },
     "execution_count": 40,
     "metadata": {},
     "output_type": "execute_result"
    }
   ],
   "source": [
    "filtered_subset.shape"
   ]
  },
  {
   "cell_type": "code",
   "execution_count": 41,
   "metadata": {
    "collapsed": true
   },
   "outputs": [],
   "source": [
    "X_test = pd.DataFrame()\n",
    "y_test = filtered_subset.c_cnt"
   ]
  },
  {
   "cell_type": "code",
   "execution_count": 42,
   "metadata": {
    "collapsed": true
   },
   "outputs": [],
   "source": [
    "create_numerical_features(X_test, filtered_subset)"
   ]
  },
  {
   "cell_type": "code",
   "execution_count": 43,
   "metadata": {
    "collapsed": true
   },
   "outputs": [],
   "source": [
    "# One hot encode device type\n",
    "transformed_device_test = le_device.transform(filtered_subset['ua_device_type'])\n",
    "\n",
    "# One hot encode continent code\n",
    "transformed_continent_test = le_cont.transform(filtered_subset[\"geo_continent_code\"])"
   ]
  },
  {
   "cell_type": "code",
   "execution_count": 44,
   "metadata": {
    "collapsed": true
   },
   "outputs": [],
   "source": [
    "# Hash features\n",
    "hashed_ad_id_test = h.transform(filtered_subset[\"advertiser_id\"].astype(str)).toarray()\n",
    "hashed_adnet_id_test = h.transform(filtered_subset[\"ad_network_id\"].astype(str)).toarray()\n",
    "hashed_country_code_test =  h.transform(filtered_subset[\"geo_country_code2\"]).toarray()\n",
    "hashed_os_test = h.transform(filtered_subset[\"ua_os_name\"]).toarray()\n",
    "hashed_site_id_test = h.transform(filtered_subset[\"site_id\"].astype(str)).toarray()\n",
    "hashed_ua_name_test = h.transform(filtered_subset[\"ua_name\"].astype(str)).toarray()\n",
    "hashed_campaign_id_test = h.transform(filtered_subset[\"campaign_id\"].astype(str)).toarray()"
   ]
  },
  {
   "cell_type": "code",
   "execution_count": 45,
   "metadata": {
    "collapsed": true
   },
   "outputs": [],
   "source": [
    "# Combine all features\n",
    "X_test = pd.concat([X_test, pd.DataFrame(transformed_continent_test), pd.DataFrame(hashed_ad_id_test),\n",
    "                            pd.DataFrame(hashed_country_code_test), pd.DataFrame(hashed_adnet_id_test),\n",
    "                            pd.DataFrame(hashed_os_test), pd.DataFrame(hashed_site_id_test),\n",
    "                            pd.DataFrame(hashed_ua_name_test), pd.DataFrame(hashed_campaign_id_test),\n",
    "                            pd.DataFrame(transformed_device_test)], \n",
    "                   axis=1)"
   ]
  },
  {
   "cell_type": "code",
   "execution_count": 46,
   "metadata": {},
   "outputs": [
    {
     "data": {
      "text/html": [
       "<div>\n",
       "<style scoped>\n",
       "    .dataframe tbody tr th:only-of-type {\n",
       "        vertical-align: middle;\n",
       "    }\n",
       "\n",
       "    .dataframe tbody tr th {\n",
       "        vertical-align: top;\n",
       "    }\n",
       "\n",
       "    .dataframe thead th {\n",
       "        text-align: right;\n",
       "    }\n",
       "</style>\n",
       "<table border=\"1\" class=\"dataframe\">\n",
       "  <thead>\n",
       "    <tr style=\"text-align: right;\">\n",
       "      <th></th>\n",
       "      <th>i_cnt</th>\n",
       "      <th>r_cnt</th>\n",
       "      <th>campaign_type</th>\n",
       "      <th>ctr_rate</th>\n",
       "      <th>num_ads_requested</th>\n",
       "      <th>hour</th>\n",
       "      <th>0</th>\n",
       "      <th>1</th>\n",
       "      <th>2</th>\n",
       "      <th>3</th>\n",
       "      <th>...</th>\n",
       "      <th>24</th>\n",
       "      <th>25</th>\n",
       "      <th>26</th>\n",
       "      <th>27</th>\n",
       "      <th>28</th>\n",
       "      <th>29</th>\n",
       "      <th>0</th>\n",
       "      <th>1</th>\n",
       "      <th>2</th>\n",
       "      <th>3</th>\n",
       "    </tr>\n",
       "  </thead>\n",
       "  <tbody>\n",
       "    <tr>\n",
       "      <th>0</th>\n",
       "      <td>1.0</td>\n",
       "      <td>1</td>\n",
       "      <td>1</td>\n",
       "      <td>0.000100</td>\n",
       "      <td>10</td>\n",
       "      <td>1</td>\n",
       "      <td>0</td>\n",
       "      <td>0</td>\n",
       "      <td>0</td>\n",
       "      <td>1</td>\n",
       "      <td>...</td>\n",
       "      <td>0.0</td>\n",
       "      <td>0.0</td>\n",
       "      <td>0.0</td>\n",
       "      <td>0.0</td>\n",
       "      <td>0.0</td>\n",
       "      <td>0.0</td>\n",
       "      <td>0</td>\n",
       "      <td>1</td>\n",
       "      <td>0</td>\n",
       "      <td>0</td>\n",
       "    </tr>\n",
       "    <tr>\n",
       "      <th>1</th>\n",
       "      <td>1.0</td>\n",
       "      <td>1</td>\n",
       "      <td>1</td>\n",
       "      <td>0.000100</td>\n",
       "      <td>10</td>\n",
       "      <td>4</td>\n",
       "      <td>0</td>\n",
       "      <td>0</td>\n",
       "      <td>0</td>\n",
       "      <td>1</td>\n",
       "      <td>...</td>\n",
       "      <td>0.0</td>\n",
       "      <td>0.0</td>\n",
       "      <td>0.0</td>\n",
       "      <td>0.0</td>\n",
       "      <td>0.0</td>\n",
       "      <td>0.0</td>\n",
       "      <td>0</td>\n",
       "      <td>1</td>\n",
       "      <td>0</td>\n",
       "      <td>0</td>\n",
       "    </tr>\n",
       "    <tr>\n",
       "      <th>2</th>\n",
       "      <td>1.0</td>\n",
       "      <td>1</td>\n",
       "      <td>1</td>\n",
       "      <td>0.000414</td>\n",
       "      <td>10</td>\n",
       "      <td>5</td>\n",
       "      <td>0</td>\n",
       "      <td>0</td>\n",
       "      <td>0</td>\n",
       "      <td>1</td>\n",
       "      <td>...</td>\n",
       "      <td>0.0</td>\n",
       "      <td>0.0</td>\n",
       "      <td>0.0</td>\n",
       "      <td>0.0</td>\n",
       "      <td>0.0</td>\n",
       "      <td>0.0</td>\n",
       "      <td>0</td>\n",
       "      <td>1</td>\n",
       "      <td>0</td>\n",
       "      <td>0</td>\n",
       "    </tr>\n",
       "    <tr>\n",
       "      <th>3</th>\n",
       "      <td>1.0</td>\n",
       "      <td>1</td>\n",
       "      <td>1</td>\n",
       "      <td>0.000395</td>\n",
       "      <td>10</td>\n",
       "      <td>6</td>\n",
       "      <td>0</td>\n",
       "      <td>0</td>\n",
       "      <td>0</td>\n",
       "      <td>1</td>\n",
       "      <td>...</td>\n",
       "      <td>0.0</td>\n",
       "      <td>0.0</td>\n",
       "      <td>0.0</td>\n",
       "      <td>0.0</td>\n",
       "      <td>0.0</td>\n",
       "      <td>0.0</td>\n",
       "      <td>0</td>\n",
       "      <td>1</td>\n",
       "      <td>0</td>\n",
       "      <td>0</td>\n",
       "    </tr>\n",
       "    <tr>\n",
       "      <th>4</th>\n",
       "      <td>1.0</td>\n",
       "      <td>1</td>\n",
       "      <td>1</td>\n",
       "      <td>0.000100</td>\n",
       "      <td>10</td>\n",
       "      <td>3</td>\n",
       "      <td>0</td>\n",
       "      <td>0</td>\n",
       "      <td>0</td>\n",
       "      <td>1</td>\n",
       "      <td>...</td>\n",
       "      <td>0.0</td>\n",
       "      <td>0.0</td>\n",
       "      <td>0.0</td>\n",
       "      <td>0.0</td>\n",
       "      <td>0.0</td>\n",
       "      <td>0.0</td>\n",
       "      <td>0</td>\n",
       "      <td>0</td>\n",
       "      <td>1</td>\n",
       "      <td>0</td>\n",
       "    </tr>\n",
       "  </tbody>\n",
       "</table>\n",
       "<p>5 rows × 226 columns</p>\n",
       "</div>"
      ],
      "text/plain": [
       "   i_cnt  r_cnt  campaign_type  ctr_rate  num_ads_requested  hour  0  1  2  3  \\\n",
       "0    1.0      1              1  0.000100                 10     1  0  0  0  1   \n",
       "1    1.0      1              1  0.000100                 10     4  0  0  0  1   \n",
       "2    1.0      1              1  0.000414                 10     5  0  0  0  1   \n",
       "3    1.0      1              1  0.000395                 10     6  0  0  0  1   \n",
       "4    1.0      1              1  0.000100                 10     3  0  0  0  1   \n",
       "\n",
       "  ...   24   25   26   27   28   29  0  1  2  3  \n",
       "0 ...  0.0  0.0  0.0  0.0  0.0  0.0  0  1  0  0  \n",
       "1 ...  0.0  0.0  0.0  0.0  0.0  0.0  0  1  0  0  \n",
       "2 ...  0.0  0.0  0.0  0.0  0.0  0.0  0  1  0  0  \n",
       "3 ...  0.0  0.0  0.0  0.0  0.0  0.0  0  1  0  0  \n",
       "4 ...  0.0  0.0  0.0  0.0  0.0  0.0  0  0  1  0  \n",
       "\n",
       "[5 rows x 226 columns]"
      ]
     },
     "execution_count": 46,
     "metadata": {},
     "output_type": "execute_result"
    }
   ],
   "source": [
    "X_test.head()"
   ]
  },
  {
   "cell_type": "code",
   "execution_count": 47,
   "metadata": {},
   "outputs": [
    {
     "data": {
      "text/plain": [
       "0.92719750721209537"
      ]
     },
     "execution_count": 47,
     "metadata": {},
     "output_type": "execute_result"
    }
   ],
   "source": [
    "xgboost.fit(X_data, y_data)\n",
    "xgboost.score(X_test, y_test)"
   ]
  },
  {
   "cell_type": "code",
   "execution_count": 48,
   "metadata": {
    "collapsed": true
   },
   "outputs": [],
   "source": [
    "y_pred = xgboost.predict(X_test)"
   ]
  },
  {
   "cell_type": "code",
   "execution_count": 49,
   "metadata": {},
   "outputs": [
    {
     "data": {
      "text/plain": [
       "array([[3504965,  274740],\n",
       "       [    537,     906]])"
      ]
     },
     "execution_count": 49,
     "metadata": {},
     "output_type": "execute_result"
    }
   ],
   "source": [
    "confusion = confusion_matrix(y_test, y_pred) #00 - TN, 10 - FN, 01 - FP, 11 - TP\n",
    "confusion"
   ]
  },
  {
   "cell_type": "markdown",
   "metadata": {},
   "source": [
    "Our precision - TP/(TP + FP) - is very low, which means we are predicting a lot of non-clicks as clicks:"
   ]
  },
  {
   "cell_type": "code",
   "execution_count": 50,
   "metadata": {},
   "outputs": [
    {
     "data": {
      "text/plain": [
       "(0.0032868244052153849, 0.62785862785862789)"
      ]
     },
     "execution_count": 50,
     "metadata": {},
     "output_type": "execute_result"
    }
   ],
   "source": [
    "precision = confusion[1][1] / (confusion[1][1] + confusion[0][1])\n",
    "recall = confusion[1][1] / (confusion[1][1] + confusion[1][0])\n",
    "precision, recall"
   ]
  },
  {
   "cell_type": "markdown",
   "metadata": {},
   "source": [
    "As a result, our F1 score isn't optimal either:"
   ]
  },
  {
   "cell_type": "code",
   "execution_count": 51,
   "metadata": {},
   "outputs": [
    {
     "data": {
      "text/plain": [
       "0.0065394151337656841"
      ]
     },
     "execution_count": 51,
     "metadata": {},
     "output_type": "execute_result"
    }
   ],
   "source": [
    "f1_score(y_test, y_pred)"
   ]
  },
  {
   "cell_type": "markdown",
   "metadata": {
    "collapsed": true
   },
   "source": [
    "# FFM (inspired by https://www.csie.ntu.edu.tw/~cjlin/papers/ffm.pdf)"
   ]
  },
  {
   "cell_type": "code",
   "execution_count": 52,
   "metadata": {
    "collapsed": true
   },
   "outputs": [],
   "source": [
    "import xlearn as xl\n",
    "xl.hello() #xl only prints in terminal"
   ]
  },
  {
   "cell_type": "markdown",
   "metadata": {},
   "source": [
    "We need to make a new dataframe with categorical features one-hot encoded instead of hashed:"
   ]
  },
  {
   "cell_type": "code",
   "execution_count": 53,
   "metadata": {},
   "outputs": [
    {
     "data": {
      "text/html": [
       "<div>\n",
       "<style scoped>\n",
       "    .dataframe tbody tr th:only-of-type {\n",
       "        vertical-align: middle;\n",
       "    }\n",
       "\n",
       "    .dataframe tbody tr th {\n",
       "        vertical-align: top;\n",
       "    }\n",
       "\n",
       "    .dataframe thead th {\n",
       "        text-align: right;\n",
       "    }\n",
       "</style>\n",
       "<table border=\"1\" class=\"dataframe\">\n",
       "  <thead>\n",
       "    <tr style=\"text-align: right;\">\n",
       "      <th></th>\n",
       "      <th>ad_network_id</th>\n",
       "      <th>ad_type</th>\n",
       "      <th>advertiser_id</th>\n",
       "      <th>bid_requests</th>\n",
       "      <th>bid_responses</th>\n",
       "      <th>c_cnt</th>\n",
       "      <th>c_timestamp</th>\n",
       "      <th>c_txn_fee</th>\n",
       "      <th>c_txn_rate</th>\n",
       "      <th>campaign_id</th>\n",
       "      <th>...</th>\n",
       "      <th>txn_rate</th>\n",
       "      <th>ua_device</th>\n",
       "      <th>ua_device_type</th>\n",
       "      <th>ua_name</th>\n",
       "      <th>ua_os_name</th>\n",
       "      <th>vi_cnt</th>\n",
       "      <th>vi_timestamp</th>\n",
       "      <th>vv_cnt</th>\n",
       "      <th>zone_id</th>\n",
       "      <th>ctr_rate</th>\n",
       "    </tr>\n",
       "  </thead>\n",
       "  <tbody>\n",
       "    <tr>\n",
       "      <th>60244</th>\n",
       "      <td>1845</td>\n",
       "      <td>[story]</td>\n",
       "      <td>5118</td>\n",
       "      <td>[]</td>\n",
       "      <td>[]</td>\n",
       "      <td>0.0</td>\n",
       "      <td>NaN</td>\n",
       "      <td>NaN</td>\n",
       "      <td>NaN</td>\n",
       "      <td>26123</td>\n",
       "      <td>...</td>\n",
       "      <td>NaN</td>\n",
       "      <td>iPhone</td>\n",
       "      <td>MOB</td>\n",
       "      <td>Mobile Safari UI/WKWebView</td>\n",
       "      <td>iOS</td>\n",
       "      <td>0.0</td>\n",
       "      <td>NaN</td>\n",
       "      <td>0.0</td>\n",
       "      <td>26024</td>\n",
       "      <td>0.000414</td>\n",
       "    </tr>\n",
       "    <tr>\n",
       "      <th>530651</th>\n",
       "      <td>1828</td>\n",
       "      <td>[story]</td>\n",
       "      <td>4514</td>\n",
       "      <td>[]</td>\n",
       "      <td>[]</td>\n",
       "      <td>0.0</td>\n",
       "      <td>NaN</td>\n",
       "      <td>NaN</td>\n",
       "      <td>NaN</td>\n",
       "      <td>22360</td>\n",
       "      <td>...</td>\n",
       "      <td>NaN</td>\n",
       "      <td>iPad</td>\n",
       "      <td>TAB</td>\n",
       "      <td>Mobile Safari</td>\n",
       "      <td>iOS</td>\n",
       "      <td>0.0</td>\n",
       "      <td>NaN</td>\n",
       "      <td>0.0</td>\n",
       "      <td>21963</td>\n",
       "      <td>0.000441</td>\n",
       "    </tr>\n",
       "    <tr>\n",
       "      <th>307</th>\n",
       "      <td>727</td>\n",
       "      <td>[story]</td>\n",
       "      <td>5152</td>\n",
       "      <td>[]</td>\n",
       "      <td>[]</td>\n",
       "      <td>1.0</td>\n",
       "      <td>2018-02-11T08:17:30.415000Z</td>\n",
       "      <td>0.0</td>\n",
       "      <td>0.5</td>\n",
       "      <td>26038</td>\n",
       "      <td>...</td>\n",
       "      <td>0.5</td>\n",
       "      <td>ONEPLUS A3003</td>\n",
       "      <td>MOB</td>\n",
       "      <td>Chrome Mobile</td>\n",
       "      <td>Android</td>\n",
       "      <td>1.0</td>\n",
       "      <td>2018-02-11T08:17:26.758000Z</td>\n",
       "      <td>0.0</td>\n",
       "      <td>14414</td>\n",
       "      <td>0.007837</td>\n",
       "    </tr>\n",
       "    <tr>\n",
       "      <th>1604749</th>\n",
       "      <td>1839</td>\n",
       "      <td>[story]</td>\n",
       "      <td>4523</td>\n",
       "      <td>[]</td>\n",
       "      <td>[]</td>\n",
       "      <td>0.0</td>\n",
       "      <td>NaN</td>\n",
       "      <td>NaN</td>\n",
       "      <td>NaN</td>\n",
       "      <td>26027</td>\n",
       "      <td>...</td>\n",
       "      <td>NaN</td>\n",
       "      <td>Other</td>\n",
       "      <td>PC</td>\n",
       "      <td>Chrome</td>\n",
       "      <td>Windows 7</td>\n",
       "      <td>0.0</td>\n",
       "      <td>NaN</td>\n",
       "      <td>0.0</td>\n",
       "      <td>17681</td>\n",
       "      <td>0.000100</td>\n",
       "    </tr>\n",
       "    <tr>\n",
       "      <th>3574445</th>\n",
       "      <td>1845</td>\n",
       "      <td>[story]</td>\n",
       "      <td>5118</td>\n",
       "      <td>[]</td>\n",
       "      <td>[]</td>\n",
       "      <td>0.0</td>\n",
       "      <td>NaN</td>\n",
       "      <td>NaN</td>\n",
       "      <td>NaN</td>\n",
       "      <td>26123</td>\n",
       "      <td>...</td>\n",
       "      <td>NaN</td>\n",
       "      <td>Other</td>\n",
       "      <td>PC</td>\n",
       "      <td>IE</td>\n",
       "      <td>Windows 7</td>\n",
       "      <td>0.0</td>\n",
       "      <td>NaN</td>\n",
       "      <td>0.0</td>\n",
       "      <td>26024</td>\n",
       "      <td>0.000414</td>\n",
       "    </tr>\n",
       "  </tbody>\n",
       "</table>\n",
       "<p>5 rows × 43 columns</p>\n",
       "</div>"
      ],
      "text/plain": [
       "         ad_network_id  ad_type  advertiser_id bid_requests bid_responses  \\\n",
       "60244             1845  [story]           5118           []            []   \n",
       "530651            1828  [story]           4514           []            []   \n",
       "307                727  [story]           5152           []            []   \n",
       "1604749           1839  [story]           4523           []            []   \n",
       "3574445           1845  [story]           5118           []            []   \n",
       "\n",
       "         c_cnt                  c_timestamp  c_txn_fee  c_txn_rate  \\\n",
       "60244      0.0                          NaN        NaN         NaN   \n",
       "530651     0.0                          NaN        NaN         NaN   \n",
       "307        1.0  2018-02-11T08:17:30.415000Z        0.0         0.5   \n",
       "1604749    0.0                          NaN        NaN         NaN   \n",
       "3574445    0.0                          NaN        NaN         NaN   \n",
       "\n",
       "         campaign_id    ...    txn_rate      ua_device  ua_device_type  \\\n",
       "60244          26123    ...         NaN         iPhone             MOB   \n",
       "530651         22360    ...         NaN           iPad             TAB   \n",
       "307            26038    ...         0.5  ONEPLUS A3003             MOB   \n",
       "1604749        26027    ...         NaN          Other              PC   \n",
       "3574445        26123    ...         NaN          Other              PC   \n",
       "\n",
       "                            ua_name  ua_os_name vi_cnt  \\\n",
       "60244    Mobile Safari UI/WKWebView         iOS    0.0   \n",
       "530651                Mobile Safari         iOS    0.0   \n",
       "307                   Chrome Mobile     Android    1.0   \n",
       "1604749                      Chrome   Windows 7    0.0   \n",
       "3574445                          IE   Windows 7    0.0   \n",
       "\n",
       "                        vi_timestamp  vv_cnt zone_id  ctr_rate  \n",
       "60244                            NaN     0.0   26024  0.000414  \n",
       "530651                           NaN     0.0   21963  0.000441  \n",
       "307      2018-02-11T08:17:26.758000Z     0.0   14414  0.007837  \n",
       "1604749                          NaN     0.0   17681  0.000100  \n",
       "3574445                          NaN     0.0   26024  0.000414  \n",
       "\n",
       "[5 rows x 43 columns]"
      ]
     },
     "execution_count": 53,
     "metadata": {},
     "output_type": "execute_result"
    }
   ],
   "source": [
    "sample.head()"
   ]
  },
  {
   "cell_type": "code",
   "execution_count": 54,
   "metadata": {
    "collapsed": true
   },
   "outputs": [],
   "source": [
    "sample_size = sample.shape[0]"
   ]
  },
  {
   "cell_type": "code",
   "execution_count": 55,
   "metadata": {
    "collapsed": true
   },
   "outputs": [],
   "source": [
    "# Split to help generate data for train and test ffm matrices\n",
    "train_ffm_original = sample.iloc[:int(0.8*sample_size), :]\n",
    "test_ffm_original = sample.iloc[int(0.8*sample_size):, :]"
   ]
  },
  {
   "cell_type": "code",
   "execution_count": 56,
   "metadata": {
    "collapsed": true
   },
   "outputs": [],
   "source": [
    "# These are the actual data that will be trained with and tested on\n",
    "train_ffm_transformed = pd.DataFrame(data={'c_cnt':train_ffm_original[\"c_cnt\"].tolist()})\n",
    "test_ffm_transformed = pd.DataFrame(data={'c_cnt':test_ffm_original[\"c_cnt\"].tolist()})"
   ]
  },
  {
   "cell_type": "code",
   "execution_count": 57,
   "metadata": {
    "collapsed": true
   },
   "outputs": [],
   "source": [
    "# Create numerical features\n",
    "create_numerical_features(train_ffm_transformed, train_ffm_original)\n",
    "create_numerical_features(test_ffm_transformed, test_ffm_original)"
   ]
  },
  {
   "cell_type": "code",
   "execution_count": 58,
   "metadata": {
    "collapsed": true
   },
   "outputs": [],
   "source": [
    "encoders = {} #cache encoders"
   ]
  },
  {
   "cell_type": "code",
   "execution_count": 59,
   "metadata": {
    "collapsed": true
   },
   "outputs": [],
   "source": [
    "# Create encoders and one hot encode features\n",
    "max_categories = 30\n",
    "def encode_feature(feature, sample):\n",
    "    \"\"\"Encode given feature from sample df and return\"\"\"\n",
    "    if feature not in encoders:\n",
    "        encoder = preprocessing.LabelBinarizer()\n",
    "        encoder.fit(filtered[feature].value_counts()[:max_categories]\n",
    "                             .index\n",
    "                             .tolist()\n",
    "                    )\n",
    "        encoders[feature] = encoder\n",
    "    else:\n",
    "        encoder = encoders[feature]\n",
    "    return encoder.transform(sample[feature])\n",
    "\n",
    "ffm_train_encoded_device = le_device.transform(train_ffm_original[\"ua_device_type\"])\n",
    "ffm_train_encoded_ad_id = encode_feature(\"advertiser_id\", train_ffm_original)\n",
    "ffm_train_encoded_ad_network_id = encode_feature(\"ad_network_id\", train_ffm_original)\n",
    "ffm_train_encoded_geo_country_code = encode_feature(\"geo_country_code2\", train_ffm_original)\n",
    "ffm_train_encoded_ua_os_name = encode_feature(\"ua_os_name\", train_ffm_original)\n",
    "ffm_train_encoded_site_id = encode_feature(\"site_id\", train_ffm_original)\n",
    "ffm_train_encoded_continent = encode_feature(\"geo_continent_code\", train_ffm_original)\n",
    "ffm_train_encoded_ua_name = encode_feature(\"ua_name\", train_ffm_original)\n",
    "ffm_train_encoded_campaign_id = encode_feature(\"campaign_id\", train_ffm_original)\n",
    "\n",
    "ffm_test_encoded_device = le_device.transform(test_ffm_original[\"ua_device_type\"])\n",
    "ffm_test_encoded_ad_id = encode_feature(\"advertiser_id\", test_ffm_original)\n",
    "ffm_test_encoded_ad_network_id = encode_feature(\"ad_network_id\", test_ffm_original)\n",
    "ffm_test_encoded_geo_country_code = encode_feature(\"geo_country_code2\", test_ffm_original)\n",
    "ffm_test_encoded_ua_os_name = encode_feature(\"ua_os_name\", test_ffm_original)\n",
    "ffm_test_encoded_site_id = encode_feature(\"site_id\", test_ffm_original)\n",
    "ffm_test_encoded_continent = encode_feature(\"geo_continent_code\", test_ffm_original)\n",
    "ffm_test_encoded_ua_name = encode_feature(\"ua_name\", test_ffm_original)\n",
    "ffm_test_encoded_campaign_id = encode_feature(\"campaign_id\", test_ffm_original)"
   ]
  },
  {
   "cell_type": "markdown",
   "metadata": {},
   "source": [
    "Feature order is continent code, advertiser id, country code, ad network id, os, site id, ua_name, campaign id,\n",
    "and ua_device type"
   ]
  },
  {
   "cell_type": "code",
   "execution_count": 61,
   "metadata": {},
   "outputs": [
    {
     "data": {
      "text/plain": [
       "[7, 26, 30, 21, 30, 24, 30, 30, 4]"
      ]
     },
     "execution_count": 61,
     "metadata": {},
     "output_type": "execute_result"
    }
   ],
   "source": [
    "feature_count = [] # Tracks number of columns per categorical feature, i.e. device_type has 4 columns\n",
    "feature_count.append(ffm_train_encoded_continent.shape[1])\n",
    "feature_count.append(ffm_train_encoded_ad_id.shape[1])\n",
    "feature_count.append(ffm_train_encoded_geo_country_code.shape[1])\n",
    "feature_count.append(ffm_train_encoded_ad_network_id.shape[1])\n",
    "feature_count.append(ffm_train_encoded_ua_os_name.shape[1])\n",
    "feature_count.append(ffm_train_encoded_site_id.shape[1])\n",
    "feature_count.append(ffm_train_encoded_ua_name.shape[1])\n",
    "feature_count.append(ffm_train_encoded_campaign_id.shape[1])\n",
    "feature_count.append(ffm_train_encoded_device.shape[1])\n",
    "feature_count"
   ]
  },
  {
   "cell_type": "code",
   "execution_count": 62,
   "metadata": {
    "collapsed": true
   },
   "outputs": [],
   "source": [
    "# Combined all encoded features\n",
    "train_ffm_transformed = pd.concat([train_ffm_transformed,  pd.DataFrame(ffm_train_encoded_continent), \n",
    "                                   pd.DataFrame(ffm_train_encoded_ad_id),\n",
    "                                   pd.DataFrame(ffm_train_encoded_geo_country_code),\n",
    "                                   pd.DataFrame(ffm_train_encoded_ad_network_id),\n",
    "                                   pd.DataFrame(ffm_train_encoded_ua_os_name),\n",
    "                                   pd.DataFrame(ffm_train_encoded_site_id),\n",
    "                                   pd.DataFrame(ffm_train_encoded_ua_name),\n",
    "                                   pd.DataFrame(ffm_train_encoded_campaign_id),\n",
    "                                   pd.DataFrame(ffm_train_encoded_device)], \n",
    "                                   axis=1)"
   ]
  },
  {
   "cell_type": "code",
   "execution_count": 63,
   "metadata": {
    "collapsed": true
   },
   "outputs": [],
   "source": [
    "test_ffm_transformed = pd.concat([test_ffm_transformed,  pd.DataFrame(ffm_test_encoded_continent), \n",
    "                                   pd.DataFrame(ffm_test_encoded_ad_id),\n",
    "                                   pd.DataFrame(ffm_test_encoded_geo_country_code),\n",
    "                                   pd.DataFrame(ffm_test_encoded_ad_network_id),\n",
    "                                   pd.DataFrame(ffm_test_encoded_ua_os_name),\n",
    "                                   pd.DataFrame(ffm_test_encoded_site_id),\n",
    "                                   pd.DataFrame(ffm_test_encoded_ua_name),\n",
    "                                   pd.DataFrame(ffm_test_encoded_campaign_id),\n",
    "                                   pd.DataFrame(ffm_test_encoded_device)], \n",
    "                                   axis=1)"
   ]
  },
  {
   "cell_type": "code",
   "execution_count": 64,
   "metadata": {
    "collapsed": true
   },
   "outputs": [],
   "source": [
    "# Inspired by https://www.analyticsvidhya.com/blog/2018/01/factorization-machines/\n",
    "def convert_to_ffm(df,data_type,numerics):\n",
    "    nrows = df.shape[0]\n",
    "    ncols = df.shape[1]\n",
    "    with open(\"./ffm/\" + str(data_type) + \"_ffm.txt\", \"w\") as text_file:\n",
    "        # Looping over rows to convert each row to libffm format\n",
    "        datastring = \"\"\n",
    "        for r in range(nrows)[:1000000]: #first 1,000,000 rows for now\n",
    "            datarow = df.iloc[r].to_dict()\n",
    "            datastring += str(int(datarow['c_cnt']))\n",
    "            field_position = 0\n",
    "            feature_count_index = 0\n",
    "            for i in range(1, ncols):\n",
    "                if field_position == feature_count[feature_count_index]:\n",
    "                    feature_count_index += 1\n",
    "                    field_position = 0\n",
    "                # For numerical fields, we are creating a dummy field here\n",
    "                if (i - 1) < len(numerics):\n",
    "                    #we are dealing with a numeric feature\n",
    "                    feat = numerics[i - 1]\n",
    "                    datastring = datastring + \" \"+str(i)+\":\"+ str(i)+\":\"+ str(datarow[feat])\n",
    "                else:\n",
    "                    #categorical feature\n",
    "                    if datarow[i] == 1:\n",
    "                        datastring = datastring + \" \"+str(feature_count_index)+\":\"+ str(field_position)+\":1\"\n",
    "                    field_position += 1\n",
    "            datastring += '\\n'\n",
    "        text_file.write(datastring)"
   ]
  },
  {
   "cell_type": "code",
   "execution_count": 65,
   "metadata": {
    "collapsed": true
   },
   "outputs": [],
   "source": [
    "# Generate list of numeric feature names\n",
    "numerics = train_ffm_transformed.columns[1:7].tolist()"
   ]
  },
  {
   "cell_type": "code",
   "execution_count": 66,
   "metadata": {
    "collapsed": true
   },
   "outputs": [],
   "source": [
    "# Rename columns to make it easier to transform to libffm format\n",
    "ncolumns = train_ffm_transformed.columns.shape[0]\n",
    "train_ffm_transformed.columns = [\"c_cnt\"] + numerics + list(range(7, ncolumns))\n",
    "test_ffm_transformed.columns = [\"c_cnt\"] + numerics + list(range(7, ncolumns))"
   ]
  },
  {
   "cell_type": "code",
   "execution_count": 67,
   "metadata": {},
   "outputs": [
    {
     "data": {
      "text/html": [
       "<div>\n",
       "<style scoped>\n",
       "    .dataframe tbody tr th:only-of-type {\n",
       "        vertical-align: middle;\n",
       "    }\n",
       "\n",
       "    .dataframe tbody tr th {\n",
       "        vertical-align: top;\n",
       "    }\n",
       "\n",
       "    .dataframe thead th {\n",
       "        text-align: right;\n",
       "    }\n",
       "</style>\n",
       "<table border=\"1\" class=\"dataframe\">\n",
       "  <thead>\n",
       "    <tr style=\"text-align: right;\">\n",
       "      <th></th>\n",
       "      <th>c_cnt</th>\n",
       "      <th>i_cnt</th>\n",
       "      <th>r_cnt</th>\n",
       "      <th>campaign_type</th>\n",
       "      <th>ctr_rate</th>\n",
       "      <th>num_ads_requested</th>\n",
       "      <th>hour</th>\n",
       "      <th>7</th>\n",
       "      <th>8</th>\n",
       "      <th>9</th>\n",
       "      <th>...</th>\n",
       "      <th>199</th>\n",
       "      <th>200</th>\n",
       "      <th>201</th>\n",
       "      <th>202</th>\n",
       "      <th>203</th>\n",
       "      <th>204</th>\n",
       "      <th>205</th>\n",
       "      <th>206</th>\n",
       "      <th>207</th>\n",
       "      <th>208</th>\n",
       "    </tr>\n",
       "  </thead>\n",
       "  <tbody>\n",
       "    <tr>\n",
       "      <th>0</th>\n",
       "      <td>0.0</td>\n",
       "      <td>1.0</td>\n",
       "      <td>1</td>\n",
       "      <td>1</td>\n",
       "      <td>0.000414</td>\n",
       "      <td>10</td>\n",
       "      <td>6</td>\n",
       "      <td>0</td>\n",
       "      <td>0</td>\n",
       "      <td>0</td>\n",
       "      <td>...</td>\n",
       "      <td>0</td>\n",
       "      <td>0</td>\n",
       "      <td>0</td>\n",
       "      <td>1</td>\n",
       "      <td>0</td>\n",
       "      <td>0</td>\n",
       "      <td>0</td>\n",
       "      <td>1</td>\n",
       "      <td>0</td>\n",
       "      <td>0</td>\n",
       "    </tr>\n",
       "    <tr>\n",
       "      <th>1</th>\n",
       "      <td>0.0</td>\n",
       "      <td>1.0</td>\n",
       "      <td>1</td>\n",
       "      <td>1</td>\n",
       "      <td>0.000441</td>\n",
       "      <td>6</td>\n",
       "      <td>6</td>\n",
       "      <td>0</td>\n",
       "      <td>0</td>\n",
       "      <td>0</td>\n",
       "      <td>...</td>\n",
       "      <td>0</td>\n",
       "      <td>0</td>\n",
       "      <td>0</td>\n",
       "      <td>0</td>\n",
       "      <td>0</td>\n",
       "      <td>0</td>\n",
       "      <td>0</td>\n",
       "      <td>0</td>\n",
       "      <td>0</td>\n",
       "      <td>1</td>\n",
       "    </tr>\n",
       "    <tr>\n",
       "      <th>2</th>\n",
       "      <td>1.0</td>\n",
       "      <td>1.0</td>\n",
       "      <td>1</td>\n",
       "      <td>0</td>\n",
       "      <td>0.007837</td>\n",
       "      <td>1</td>\n",
       "      <td>2</td>\n",
       "      <td>0</td>\n",
       "      <td>0</td>\n",
       "      <td>0</td>\n",
       "      <td>...</td>\n",
       "      <td>0</td>\n",
       "      <td>0</td>\n",
       "      <td>0</td>\n",
       "      <td>0</td>\n",
       "      <td>0</td>\n",
       "      <td>0</td>\n",
       "      <td>0</td>\n",
       "      <td>1</td>\n",
       "      <td>0</td>\n",
       "      <td>0</td>\n",
       "    </tr>\n",
       "    <tr>\n",
       "      <th>3</th>\n",
       "      <td>0.0</td>\n",
       "      <td>1.0</td>\n",
       "      <td>1</td>\n",
       "      <td>1</td>\n",
       "      <td>0.000100</td>\n",
       "      <td>4</td>\n",
       "      <td>6</td>\n",
       "      <td>0</td>\n",
       "      <td>0</td>\n",
       "      <td>0</td>\n",
       "      <td>...</td>\n",
       "      <td>0</td>\n",
       "      <td>0</td>\n",
       "      <td>0</td>\n",
       "      <td>0</td>\n",
       "      <td>0</td>\n",
       "      <td>0</td>\n",
       "      <td>0</td>\n",
       "      <td>0</td>\n",
       "      <td>1</td>\n",
       "      <td>0</td>\n",
       "    </tr>\n",
       "    <tr>\n",
       "      <th>4</th>\n",
       "      <td>0.0</td>\n",
       "      <td>1.0</td>\n",
       "      <td>1</td>\n",
       "      <td>1</td>\n",
       "      <td>0.000414</td>\n",
       "      <td>10</td>\n",
       "      <td>5</td>\n",
       "      <td>0</td>\n",
       "      <td>0</td>\n",
       "      <td>0</td>\n",
       "      <td>...</td>\n",
       "      <td>0</td>\n",
       "      <td>0</td>\n",
       "      <td>0</td>\n",
       "      <td>1</td>\n",
       "      <td>0</td>\n",
       "      <td>0</td>\n",
       "      <td>0</td>\n",
       "      <td>0</td>\n",
       "      <td>1</td>\n",
       "      <td>0</td>\n",
       "    </tr>\n",
       "  </tbody>\n",
       "</table>\n",
       "<p>5 rows × 209 columns</p>\n",
       "</div>"
      ],
      "text/plain": [
       "   c_cnt  i_cnt  r_cnt  campaign_type  ctr_rate  num_ads_requested  hour  7  \\\n",
       "0    0.0    1.0      1              1  0.000414                 10     6  0   \n",
       "1    0.0    1.0      1              1  0.000441                  6     6  0   \n",
       "2    1.0    1.0      1              0  0.007837                  1     2  0   \n",
       "3    0.0    1.0      1              1  0.000100                  4     6  0   \n",
       "4    0.0    1.0      1              1  0.000414                 10     5  0   \n",
       "\n",
       "   8  9 ...   199  200  201  202  203  204  205  206  207  208  \n",
       "0  0  0 ...     0    0    0    1    0    0    0    1    0    0  \n",
       "1  0  0 ...     0    0    0    0    0    0    0    0    0    1  \n",
       "2  0  0 ...     0    0    0    0    0    0    0    1    0    0  \n",
       "3  0  0 ...     0    0    0    0    0    0    0    0    1    0  \n",
       "4  0  0 ...     0    0    0    1    0    0    0    0    1    0  \n",
       "\n",
       "[5 rows x 209 columns]"
      ]
     },
     "execution_count": 67,
     "metadata": {},
     "output_type": "execute_result"
    }
   ],
   "source": [
    "train_ffm_transformed.head()"
   ]
  },
  {
   "cell_type": "code",
   "execution_count": 68,
   "metadata": {
    "collapsed": true
   },
   "outputs": [],
   "source": [
    "convert_to_ffm(train_ffm_transformed, \"train\", numerics)\n",
    "convert_to_ffm(test_ffm_transformed, \"test\", numerics)"
   ]
  },
  {
   "cell_type": "markdown",
   "metadata": {},
   "source": [
    "Train FFM model for 15 epochs, achieved 84.4% accuracy, 0.41 log loss and 0.86 AUC score on test set:"
   ]
  },
  {
   "cell_type": "code",
   "execution_count": 78,
   "metadata": {
    "collapsed": true
   },
   "outputs": [],
   "source": [
    "# Training task\n",
    "ffm_model = xl.create_ffm()  \n",
    "ffm_model.setTrain(\"./ffm/train_ffm.txt\")   # Training data\n",
    "ffm_model.setValidate(\"./ffm/test_ffm.txt\")  # Validation data\n",
    "ffm_model.setSigmoid()\n",
    "\n",
    "# param:\n",
    "#  0. binary classification\n",
    "#  1. learning rate : 0.2\n",
    "#  2. regular lambda : 0.002\n",
    "#  3. Metric for monitoring validation set performance (using accuracy rn)\n",
    "#  4. Maximum number of Epochs\n",
    "param = {'task':'binary', 'lr':0.2, 'lambda':0.002,'metric':'acc','epoch':15}\n",
    "\n",
    "# Train model\n",
    "ffm_model.fit(param, \"./ffm/model.out\")"
   ]
  },
  {
   "cell_type": "markdown",
   "metadata": {},
   "source": [
    "Find F1 score of test data:"
   ]
  },
  {
   "cell_type": "code",
   "execution_count": 72,
   "metadata": {
    "collapsed": true
   },
   "outputs": [],
   "source": [
    "ffm_model.setTest(\"./ffm/test_ffm.txt\")\n",
    "ffm_model.setSign() #makes outputs either 0 or 1\n",
    "ffm_model.predict(\"./ffm/model.out\", \"./ffm/output.txt\")"
   ]
  },
  {
   "cell_type": "code",
   "execution_count": 88,
   "metadata": {},
   "outputs": [
    {
     "data": {
      "text/html": [
       "<div>\n",
       "<style scoped>\n",
       "    .dataframe tbody tr th:only-of-type {\n",
       "        vertical-align: middle;\n",
       "    }\n",
       "\n",
       "    .dataframe tbody tr th {\n",
       "        vertical-align: top;\n",
       "    }\n",
       "\n",
       "    .dataframe thead th {\n",
       "        text-align: right;\n",
       "    }\n",
       "</style>\n",
       "<table border=\"1\" class=\"dataframe\">\n",
       "  <thead>\n",
       "    <tr style=\"text-align: right;\">\n",
       "      <th></th>\n",
       "      <th>0</th>\n",
       "    </tr>\n",
       "  </thead>\n",
       "  <tbody>\n",
       "    <tr>\n",
       "      <th>0</th>\n",
       "      <td>1</td>\n",
       "    </tr>\n",
       "    <tr>\n",
       "      <th>1</th>\n",
       "      <td>0</td>\n",
       "    </tr>\n",
       "    <tr>\n",
       "      <th>2</th>\n",
       "      <td>0</td>\n",
       "    </tr>\n",
       "    <tr>\n",
       "      <th>3</th>\n",
       "      <td>0</td>\n",
       "    </tr>\n",
       "    <tr>\n",
       "      <th>4</th>\n",
       "      <td>0</td>\n",
       "    </tr>\n",
       "  </tbody>\n",
       "</table>\n",
       "</div>"
      ],
      "text/plain": [
       "   0\n",
       "0  1\n",
       "1  0\n",
       "2  0\n",
       "3  0\n",
       "4  0"
      ]
     },
     "execution_count": 88,
     "metadata": {},
     "output_type": "execute_result"
    }
   ],
   "source": [
    "y_pred_ffm = pd.read_csv('ffm/output.txt', header = None)\n",
    "y_pred_ffm.head()"
   ]
  },
  {
   "cell_type": "code",
   "execution_count": 76,
   "metadata": {},
   "outputs": [
    {
     "name": "stdout",
     "output_type": "stream",
     "text": [
      "Confusion Matrix:\n",
      " [[507  20]\n",
      " [101 150]]\n",
      "Precision: 0.882352941176 , Recall: 0.597609561753\n",
      "F1 Score: 0.712589073634\n"
     ]
    }
   ],
   "source": [
    "confusion_ffm = confusion_matrix(test_ffm_transformed['c_cnt'], y_pred_ffm) #00 - TN, 10 - FN, 01 - FP, 11 - TP\n",
    "print(\"Confusion Matrix:\\n\", confusion_ffm)\n",
    "\n",
    "precision_ffm = confusion_ffm[1][1] / (confusion_ffm[1][1] + confusion_ffm[0][1])\n",
    "recall_ffm = confusion_ffm[1][1] / (confusion_ffm[1][1] + confusion_ffm[1][0])\n",
    "print(\"Precision:\", precision_ffm, \", Recall:\", recall_ffm)\n",
    "\n",
    "print(\"F1 Score:\", f1_score(test_ffm_transformed['c_cnt'], y_pred_ffm)) #better F1 score!"
   ]
  },
  {
   "cell_type": "markdown",
   "metadata": {},
   "source": [
    "### Test FFM on original data"
   ]
  },
  {
   "cell_type": "code",
   "execution_count": 214,
   "metadata": {
    "collapsed": true
   },
   "outputs": [],
   "source": [
    "combined = pd.concat([train_ffm_transformed, test_ffm_transformed])"
   ]
  },
  {
   "cell_type": "code",
   "execution_count": 234,
   "metadata": {},
   "outputs": [
    {
     "data": {
      "text/html": [
       "<div>\n",
       "<style scoped>\n",
       "    .dataframe tbody tr th:only-of-type {\n",
       "        vertical-align: middle;\n",
       "    }\n",
       "\n",
       "    .dataframe tbody tr th {\n",
       "        vertical-align: top;\n",
       "    }\n",
       "\n",
       "    .dataframe thead th {\n",
       "        text-align: right;\n",
       "    }\n",
       "</style>\n",
       "<table border=\"1\" class=\"dataframe\">\n",
       "  <thead>\n",
       "    <tr style=\"text-align: right;\">\n",
       "      <th></th>\n",
       "      <th>c_cnt</th>\n",
       "      <th>i_cnt</th>\n",
       "      <th>r_cnt</th>\n",
       "      <th>campaign_type</th>\n",
       "      <th>ctr_rate</th>\n",
       "      <th>num_ads_requested</th>\n",
       "      <th>hour</th>\n",
       "      <th>7</th>\n",
       "      <th>8</th>\n",
       "      <th>9</th>\n",
       "      <th>...</th>\n",
       "      <th>139</th>\n",
       "      <th>140</th>\n",
       "      <th>141</th>\n",
       "      <th>142</th>\n",
       "      <th>143</th>\n",
       "      <th>144</th>\n",
       "      <th>145</th>\n",
       "      <th>146</th>\n",
       "      <th>147</th>\n",
       "      <th>148</th>\n",
       "    </tr>\n",
       "  </thead>\n",
       "  <tbody>\n",
       "    <tr>\n",
       "      <th>0</th>\n",
       "      <td>0.0</td>\n",
       "      <td>1.0</td>\n",
       "      <td>1</td>\n",
       "      <td>0</td>\n",
       "      <td>0.007053</td>\n",
       "      <td>1</td>\n",
       "      <td>4</td>\n",
       "      <td>0</td>\n",
       "      <td>1</td>\n",
       "      <td>0</td>\n",
       "      <td>...</td>\n",
       "      <td>0</td>\n",
       "      <td>0</td>\n",
       "      <td>0</td>\n",
       "      <td>0</td>\n",
       "      <td>0</td>\n",
       "      <td>0</td>\n",
       "      <td>0</td>\n",
       "      <td>1</td>\n",
       "      <td>0</td>\n",
       "      <td>0</td>\n",
       "    </tr>\n",
       "    <tr>\n",
       "      <th>1</th>\n",
       "      <td>0.0</td>\n",
       "      <td>1.0</td>\n",
       "      <td>1</td>\n",
       "      <td>1</td>\n",
       "      <td>0.000393</td>\n",
       "      <td>10</td>\n",
       "      <td>5</td>\n",
       "      <td>0</td>\n",
       "      <td>1</td>\n",
       "      <td>0</td>\n",
       "      <td>...</td>\n",
       "      <td>0</td>\n",
       "      <td>0</td>\n",
       "      <td>0</td>\n",
       "      <td>0</td>\n",
       "      <td>0</td>\n",
       "      <td>0</td>\n",
       "      <td>0</td>\n",
       "      <td>1</td>\n",
       "      <td>0</td>\n",
       "      <td>0</td>\n",
       "    </tr>\n",
       "    <tr>\n",
       "      <th>2</th>\n",
       "      <td>0.0</td>\n",
       "      <td>1.0</td>\n",
       "      <td>1</td>\n",
       "      <td>1</td>\n",
       "      <td>0.000393</td>\n",
       "      <td>4</td>\n",
       "      <td>6</td>\n",
       "      <td>0</td>\n",
       "      <td>1</td>\n",
       "      <td>0</td>\n",
       "      <td>...</td>\n",
       "      <td>0</td>\n",
       "      <td>0</td>\n",
       "      <td>0</td>\n",
       "      <td>0</td>\n",
       "      <td>0</td>\n",
       "      <td>0</td>\n",
       "      <td>0</td>\n",
       "      <td>1</td>\n",
       "      <td>0</td>\n",
       "      <td>0</td>\n",
       "    </tr>\n",
       "    <tr>\n",
       "      <th>3</th>\n",
       "      <td>0.0</td>\n",
       "      <td>1.0</td>\n",
       "      <td>1</td>\n",
       "      <td>1</td>\n",
       "      <td>0.000248</td>\n",
       "      <td>10</td>\n",
       "      <td>6</td>\n",
       "      <td>0</td>\n",
       "      <td>1</td>\n",
       "      <td>0</td>\n",
       "      <td>...</td>\n",
       "      <td>0</td>\n",
       "      <td>0</td>\n",
       "      <td>0</td>\n",
       "      <td>0</td>\n",
       "      <td>0</td>\n",
       "      <td>0</td>\n",
       "      <td>0</td>\n",
       "      <td>1</td>\n",
       "      <td>0</td>\n",
       "      <td>0</td>\n",
       "    </tr>\n",
       "    <tr>\n",
       "      <th>4</th>\n",
       "      <td>0.0</td>\n",
       "      <td>1.0</td>\n",
       "      <td>1</td>\n",
       "      <td>1</td>\n",
       "      <td>0.000248</td>\n",
       "      <td>10</td>\n",
       "      <td>4</td>\n",
       "      <td>0</td>\n",
       "      <td>1</td>\n",
       "      <td>0</td>\n",
       "      <td>...</td>\n",
       "      <td>0</td>\n",
       "      <td>0</td>\n",
       "      <td>0</td>\n",
       "      <td>0</td>\n",
       "      <td>0</td>\n",
       "      <td>0</td>\n",
       "      <td>0</td>\n",
       "      <td>1</td>\n",
       "      <td>0</td>\n",
       "      <td>0</td>\n",
       "    </tr>\n",
       "  </tbody>\n",
       "</table>\n",
       "<p>5 rows × 149 columns</p>\n",
       "</div>"
      ],
      "text/plain": [
       "   c_cnt  i_cnt  r_cnt  campaign_type  ctr_rate  num_ads_requested  hour  7  \\\n",
       "0    0.0    1.0      1              0  0.007053                  1     4  0   \n",
       "1    0.0    1.0      1              1  0.000393                 10     5  0   \n",
       "2    0.0    1.0      1              1  0.000393                  4     6  0   \n",
       "3    0.0    1.0      1              1  0.000248                 10     6  0   \n",
       "4    0.0    1.0      1              1  0.000248                 10     4  0   \n",
       "\n",
       "   8  9 ...   139  140  141  142  143  144  145  146  147  148  \n",
       "0  1  0 ...     0    0    0    0    0    0    0    1    0    0  \n",
       "1  1  0 ...     0    0    0    0    0    0    0    1    0    0  \n",
       "2  1  0 ...     0    0    0    0    0    0    0    1    0    0  \n",
       "3  1  0 ...     0    0    0    0    0    0    0    1    0    0  \n",
       "4  1  0 ...     0    0    0    0    0    0    0    1    0    0  \n",
       "\n",
       "[5 rows x 149 columns]"
      ]
     },
     "execution_count": 234,
     "metadata": {},
     "output_type": "execute_result"
    }
   ],
   "source": [
    "combined.head()"
   ]
  },
  {
   "cell_type": "code",
   "execution_count": 227,
   "metadata": {
    "collapsed": true
   },
   "outputs": [],
   "source": [
    "ffm_original = pd.DataFrame(filtered_subset['c_cnt'])\n",
    "create_numerical_features(ffm_original, filtered_subset)"
   ]
  },
  {
   "cell_type": "code",
   "execution_count": 228,
   "metadata": {
    "collapsed": true
   },
   "outputs": [],
   "source": [
    "ffm_original.reset_index(inplace=True, drop=True)"
   ]
  },
  {
   "cell_type": "code",
   "execution_count": 224,
   "metadata": {
    "collapsed": true
   },
   "outputs": [],
   "source": [
    "# Encoding features of original data, takes a long time to run\n",
    "ffm_original_encoded_device = le_device.transform(filtered_subset[\"ua_device_type\"].tolist())\n",
    "ffm_original_encoded_ad_id = encode_feature(\"advertiser_id\", filtered_subset)\n",
    "ffm_original_encoded_ad_network_id = encode_feature(\"ad_network_id\", filtered_subset)\n",
    "ffm_original_encoded_geo_country_code = encode_feature(\"geo_country_code2\", filtered_subset)\n",
    "ffm_original_encoded_ua_os_name = encode_feature(\"ua_os_name\", filtered_subset)\n",
    "ffm_original_encoded_site_id = encode_feature(\"site_id\", filtered_subset)\n",
    "ffm_original_encoded_continent = encode_feature(\"geo_continent_code\", filtered_subset)"
   ]
  },
  {
   "cell_type": "code",
   "execution_count": 229,
   "metadata": {
    "collapsed": true
   },
   "outputs": [],
   "source": [
    "# Combined all encoded features\n",
    "ffm_original = pd.concat([ffm_original, pd.DataFrame(ffm_original_encoded_device),\n",
    "                                  pd.DataFrame(ffm_original_encoded_ad_id),\n",
    "                                  pd.DataFrame(ffm_original_encoded_ad_network_id),\n",
    "                                  pd.DataFrame(ffm_original_encoded_geo_country_code),\n",
    "                                  pd.DataFrame(ffm_original_encoded_ua_os_name),\n",
    "                                  pd.DataFrame(ffm_original_encoded_site_id), \n",
    "                                  pd.DataFrame(ffm_original_encoded_continent)], axis=1)"
   ]
  },
  {
   "cell_type": "code",
   "execution_count": 231,
   "metadata": {},
   "outputs": [
    {
     "data": {
      "text/html": [
       "<div>\n",
       "<style scoped>\n",
       "    .dataframe tbody tr th:only-of-type {\n",
       "        vertical-align: middle;\n",
       "    }\n",
       "\n",
       "    .dataframe tbody tr th {\n",
       "        vertical-align: top;\n",
       "    }\n",
       "\n",
       "    .dataframe thead th {\n",
       "        text-align: right;\n",
       "    }\n",
       "</style>\n",
       "<table border=\"1\" class=\"dataframe\">\n",
       "  <thead>\n",
       "    <tr style=\"text-align: right;\">\n",
       "      <th></th>\n",
       "      <th>c_cnt</th>\n",
       "      <th>i_cnt</th>\n",
       "      <th>r_cnt</th>\n",
       "      <th>campaign_type</th>\n",
       "      <th>ctr_rate</th>\n",
       "      <th>num_ads_requested</th>\n",
       "      <th>hour</th>\n",
       "      <th>0</th>\n",
       "      <th>1</th>\n",
       "      <th>2</th>\n",
       "      <th>...</th>\n",
       "      <th>21</th>\n",
       "      <th>22</th>\n",
       "      <th>23</th>\n",
       "      <th>0</th>\n",
       "      <th>1</th>\n",
       "      <th>2</th>\n",
       "      <th>3</th>\n",
       "      <th>4</th>\n",
       "      <th>5</th>\n",
       "      <th>6</th>\n",
       "    </tr>\n",
       "  </thead>\n",
       "  <tbody>\n",
       "    <tr>\n",
       "      <th>0</th>\n",
       "      <td>0.0</td>\n",
       "      <td>1.0</td>\n",
       "      <td>1</td>\n",
       "      <td>1</td>\n",
       "      <td>0.000100</td>\n",
       "      <td>10</td>\n",
       "      <td>3</td>\n",
       "      <td>0</td>\n",
       "      <td>1</td>\n",
       "      <td>0</td>\n",
       "      <td>...</td>\n",
       "      <td>0</td>\n",
       "      <td>0</td>\n",
       "      <td>0</td>\n",
       "      <td>0</td>\n",
       "      <td>0</td>\n",
       "      <td>0</td>\n",
       "      <td>0</td>\n",
       "      <td>1</td>\n",
       "      <td>0</td>\n",
       "      <td>0</td>\n",
       "    </tr>\n",
       "    <tr>\n",
       "      <th>1</th>\n",
       "      <td>0.0</td>\n",
       "      <td>1.0</td>\n",
       "      <td>1</td>\n",
       "      <td>1</td>\n",
       "      <td>0.000100</td>\n",
       "      <td>4</td>\n",
       "      <td>1</td>\n",
       "      <td>0</td>\n",
       "      <td>0</td>\n",
       "      <td>1</td>\n",
       "      <td>...</td>\n",
       "      <td>0</td>\n",
       "      <td>0</td>\n",
       "      <td>0</td>\n",
       "      <td>0</td>\n",
       "      <td>0</td>\n",
       "      <td>0</td>\n",
       "      <td>0</td>\n",
       "      <td>1</td>\n",
       "      <td>0</td>\n",
       "      <td>0</td>\n",
       "    </tr>\n",
       "    <tr>\n",
       "      <th>2</th>\n",
       "      <td>0.0</td>\n",
       "      <td>1.0</td>\n",
       "      <td>1</td>\n",
       "      <td>1</td>\n",
       "      <td>0.000416</td>\n",
       "      <td>10</td>\n",
       "      <td>6</td>\n",
       "      <td>0</td>\n",
       "      <td>0</td>\n",
       "      <td>0</td>\n",
       "      <td>...</td>\n",
       "      <td>0</td>\n",
       "      <td>0</td>\n",
       "      <td>0</td>\n",
       "      <td>0</td>\n",
       "      <td>0</td>\n",
       "      <td>0</td>\n",
       "      <td>0</td>\n",
       "      <td>1</td>\n",
       "      <td>0</td>\n",
       "      <td>0</td>\n",
       "    </tr>\n",
       "    <tr>\n",
       "      <th>3</th>\n",
       "      <td>0.0</td>\n",
       "      <td>1.0</td>\n",
       "      <td>1</td>\n",
       "      <td>1</td>\n",
       "      <td>0.000100</td>\n",
       "      <td>10</td>\n",
       "      <td>4</td>\n",
       "      <td>0</td>\n",
       "      <td>0</td>\n",
       "      <td>1</td>\n",
       "      <td>...</td>\n",
       "      <td>0</td>\n",
       "      <td>0</td>\n",
       "      <td>0</td>\n",
       "      <td>0</td>\n",
       "      <td>0</td>\n",
       "      <td>0</td>\n",
       "      <td>0</td>\n",
       "      <td>1</td>\n",
       "      <td>0</td>\n",
       "      <td>0</td>\n",
       "    </tr>\n",
       "    <tr>\n",
       "      <th>4</th>\n",
       "      <td>0.0</td>\n",
       "      <td>1.0</td>\n",
       "      <td>1</td>\n",
       "      <td>1</td>\n",
       "      <td>0.000248</td>\n",
       "      <td>10</td>\n",
       "      <td>5</td>\n",
       "      <td>0</td>\n",
       "      <td>1</td>\n",
       "      <td>0</td>\n",
       "      <td>...</td>\n",
       "      <td>0</td>\n",
       "      <td>0</td>\n",
       "      <td>0</td>\n",
       "      <td>0</td>\n",
       "      <td>0</td>\n",
       "      <td>0</td>\n",
       "      <td>0</td>\n",
       "      <td>1</td>\n",
       "      <td>0</td>\n",
       "      <td>0</td>\n",
       "    </tr>\n",
       "  </tbody>\n",
       "</table>\n",
       "<p>5 rows × 149 columns</p>\n",
       "</div>"
      ],
      "text/plain": [
       "   c_cnt  i_cnt  r_cnt  campaign_type  ctr_rate  num_ads_requested  hour  0  \\\n",
       "0    0.0    1.0      1              1  0.000100                 10     3  0   \n",
       "1    0.0    1.0      1              1  0.000100                  4     1  0   \n",
       "2    0.0    1.0      1              1  0.000416                 10     6  0   \n",
       "3    0.0    1.0      1              1  0.000100                 10     4  0   \n",
       "4    0.0    1.0      1              1  0.000248                 10     5  0   \n",
       "\n",
       "   1  2 ...  21  22  23  0  1  2  3  4  5  6  \n",
       "0  1  0 ...   0   0   0  0  0  0  0  1  0  0  \n",
       "1  0  1 ...   0   0   0  0  0  0  0  1  0  0  \n",
       "2  0  0 ...   0   0   0  0  0  0  0  1  0  0  \n",
       "3  0  1 ...   0   0   0  0  0  0  0  1  0  0  \n",
       "4  1  0 ...   0   0   0  0  0  0  0  1  0  0  \n",
       "\n",
       "[5 rows x 149 columns]"
      ]
     },
     "execution_count": 231,
     "metadata": {},
     "output_type": "execute_result"
    }
   ],
   "source": [
    "ffm_original.head()"
   ]
  },
  {
   "cell_type": "code",
   "execution_count": 232,
   "metadata": {
    "collapsed": true
   },
   "outputs": [],
   "source": [
    "# Rename columns to make it easier to transform to libffm format\n",
    "ffm_original.columns = [\"c_cnt\"] + numerics + list(range(7, ncolumns))"
   ]
  },
  {
   "cell_type": "code",
   "execution_count": 233,
   "metadata": {
    "collapsed": true
   },
   "outputs": [],
   "source": [
    "convert_to_ffm(combined, \"train_combined\", numerics)"
   ]
  },
  {
   "cell_type": "code",
   "execution_count": 237,
   "metadata": {},
   "outputs": [
    {
     "ename": "KeyboardInterrupt",
     "evalue": "",
     "output_type": "error",
     "traceback": [
      "\u001b[0;31m---------------------------------------------------------------------------\u001b[0m",
      "\u001b[0;31mKeyboardInterrupt\u001b[0m                         Traceback (most recent call last)",
      "\u001b[0;32m<ipython-input-237-580efc0ab40e>\u001b[0m in \u001b[0;36m<module>\u001b[0;34m()\u001b[0m\n\u001b[0;32m----> 1\u001b[0;31m \u001b[0mconvert_to_ffm\u001b[0m\u001b[0;34m(\u001b[0m\u001b[0mffm_original\u001b[0m\u001b[0;34m,\u001b[0m \u001b[0;34m\"test_original\"\u001b[0m\u001b[0;34m,\u001b[0m \u001b[0mnumerics\u001b[0m\u001b[0;34m)\u001b[0m\u001b[0;34m\u001b[0m\u001b[0m\n\u001b[0m",
      "\u001b[0;32m<ipython-input-236-398bb8e95123>\u001b[0m in \u001b[0;36mconvert_to_ffm\u001b[0;34m(df, data_type, numerics)\u001b[0m\n\u001b[1;32m     23\u001b[0m                     \u001b[0;31m#categorical feature\u001b[0m\u001b[0;34m\u001b[0m\u001b[0;34m\u001b[0m\u001b[0m\n\u001b[1;32m     24\u001b[0m                     \u001b[0;32mif\u001b[0m \u001b[0mdatarow\u001b[0m\u001b[0;34m[\u001b[0m\u001b[0mi\u001b[0m\u001b[0;34m]\u001b[0m \u001b[0;34m==\u001b[0m \u001b[0;36m1\u001b[0m\u001b[0;34m:\u001b[0m\u001b[0;34m\u001b[0m\u001b[0m\n\u001b[0;32m---> 25\u001b[0;31m                         \u001b[0mdatastring\u001b[0m \u001b[0;34m=\u001b[0m \u001b[0mdatastring\u001b[0m \u001b[0;34m+\u001b[0m \u001b[0;34m\" \"\u001b[0m\u001b[0;34m+\u001b[0m\u001b[0mstr\u001b[0m\u001b[0;34m(\u001b[0m\u001b[0mi\u001b[0m\u001b[0;34m)\u001b[0m\u001b[0;34m+\u001b[0m\u001b[0;34m\":\"\u001b[0m\u001b[0;34m+\u001b[0m \u001b[0mstr\u001b[0m\u001b[0;34m(\u001b[0m\u001b[0mfield_position\u001b[0m\u001b[0;34m)\u001b[0m\u001b[0;34m+\u001b[0m\u001b[0;34m\":1\"\u001b[0m\u001b[0;34m\u001b[0m\u001b[0m\n\u001b[0m\u001b[1;32m     26\u001b[0m                     \u001b[0mfield_position\u001b[0m \u001b[0;34m+=\u001b[0m \u001b[0;36m1\u001b[0m\u001b[0;34m\u001b[0m\u001b[0m\n\u001b[1;32m     27\u001b[0m             \u001b[0mdatastring\u001b[0m \u001b[0;34m+=\u001b[0m \u001b[0;34m'\\n'\u001b[0m\u001b[0;34m\u001b[0m\u001b[0m\n",
      "\u001b[0;31mKeyboardInterrupt\u001b[0m: "
     ]
    }
   ],
   "source": [
    "convert_to_ffm(ffm_original, \"test_original\", numerics)"
   ]
  },
  {
   "cell_type": "code",
   "execution_count": null,
   "metadata": {
    "collapsed": true
   },
   "outputs": [],
   "source": [
    "# Training task\n",
    "ffm_model_whole = xl.create_ffm()  \n",
    "ffm_model_whole.setTrain(\"./ffm/train_combined_ffm.txt\")   # Training data\n",
    "ffm_model_whole.setValidate(\"./ffm/test_original_ffm.txt\")  # Validation data\n",
    "ffm_model_whole.setSigmoid()\n",
    "\n",
    "# param:\n",
    "#  0. binary classification\n",
    "#  1. learning rate : 0.2\n",
    "#  2. regular lambda : 0.002\n",
    "#  3. Metric for monitoring validation set performance (using accuracy rn)\n",
    "#  4. Maximum number of Epochs\n",
    "param_whole = {'task':'binary', 'lr':0.2, 'lambda':0.002,'metric':'acc','epoch':5}\n",
    "\n",
    "# Train model\n",
    "ffm_model_whole.fit(param_whole, \"./ffm/model_whole.out\")"
   ]
  }
 ],
 "metadata": {
  "anaconda-cloud": {},
  "kernelspec": {
   "display_name": "Python [conda root]",
   "language": "python",
   "name": "conda-root-py"
  },
  "language_info": {
   "codemirror_mode": {
    "name": "ipython",
    "version": 3
   },
   "file_extension": ".py",
   "mimetype": "text/x-python",
   "name": "python",
   "nbconvert_exporter": "python",
   "pygments_lexer": "ipython3",
   "version": "3.5.4"
  }
 },
 "nbformat": 4,
 "nbformat_minor": 2
}
